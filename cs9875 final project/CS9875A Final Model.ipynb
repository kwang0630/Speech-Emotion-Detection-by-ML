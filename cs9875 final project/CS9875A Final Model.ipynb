{
 "cells": [
  {
   "cell_type": "code",
   "execution_count": null,
   "metadata": {
    "_cell_guid": "b1076dfc-b9ad-4769-8c92-a6c4dae69d19",
    "_uuid": "8f2839f25d086af736a60e9eeb907d3b93b6e0e5"
   },
   "outputs": [],
   "source": [
    "# This Python 3 environment comes with many helpful analytics libraries installed\n",
    "# It is defined by the kaggle/python Docker image: https://github.com/kaggle/docker-python\n",
    "# For example, here's several helpful packages to load\n",
    "\n",
    "import numpy as np # linear algebra\n",
    "import pandas as pd # data processing, CSV file I/O (e.g. pd.read_csv)\n",
    "\n",
    "# Input data files are available in the read-only \"../input/\" directory\n",
    "# For example, running this (by clicking run or pressing Shift+Enter) will list all files under the input directory\n",
    "\n",
    "import os\n",
    "for dirname, _, filenames in os.walk('/kaggle/input'):\n",
    "    for filename in filenames:\n",
    "        print(os.path.join(dirname, filename))\n",
    "\n",
    "# You can write up to 20GB to the current directory (/kaggle/working/) that gets preserved as output when you create a version using \"Save & Run All\" \n",
    "# You can also write temporary files to /kaggle/temp/, but they won't be saved outside of the current session"
   ]
  },
  {
   "cell_type": "markdown",
   "metadata": {},
   "source": [
    "# SETUP\n",
    "import all needed libraries and define the root directory"
   ]
  },
  {
   "cell_type": "code",
   "execution_count": 3,
   "metadata": {
    "execution": {
     "iopub.execute_input": "2021-12-26T22:44:19.180178Z",
     "iopub.status.busy": "2021-12-26T22:44:19.179869Z",
     "iopub.status.idle": "2021-12-26T22:44:28.287426Z",
     "shell.execute_reply": "2021-12-26T22:44:28.286514Z",
     "shell.execute_reply.started": "2021-12-26T22:44:19.180144Z"
    }
   },
   "outputs": [],
   "source": [
    "from sklearn.preprocessing import StandardScaler\n",
    "import numpy as np\n",
    "import matplotlib.pyplot as plt # plotting\n",
    "%matplotlib inline\n",
    "import time\n",
    "import os\n",
    "import pandas as pd\n",
    "import shutil\n",
    "import seaborn as sns\n",
    "from sklearn.model_selection import train_test_split\n",
    "from sklearn.preprocessing import StandardScaler, OneHotEncoder\n",
    "# library used to process audio \n",
    "import librosa\n",
    "from librosa import display\n",
    "import IPython.display as ipd\n",
    "import json\n",
    "import random\n",
    "plt.figure(figsize=(14,5))\n",
    "#DATAPATH = './archive'\n",
    "#dir_list = os.listdir(DATAPATH)\n",
    "#print(dir_list)\n",
    "#print(os.listdir(os.path.join(DATAPATH,dir_list[0])))\n",
    "\n",
    "import tensorflow as tf\n",
    "from keras.models import Sequential\n",
    "from keras.layers import Conv1D, MaxPooling1D, Conv2D, MaxPool2D, Dropout, Flatten, Dense, Activation, BatchNormalization, Lambda\n",
    "from keras.preprocessing.image import ImageDataGenerator\n",
    "from tensorflow.keras.optimizers import Adam\n",
    "from keras.callbacks import ModelCheckpoint, EarlyStopping, CSVLogger\n",
    "ROOT = \"/kaggle/input/ravdess-emotional-speech-audio\""
   ]
  },
  {
   "cell_type": "markdown",
   "metadata": {},
   "source": [
    "## Code used to check the GPU availability"
   ]
  },
  {
   "cell_type": "code",
   "execution_count": 34,
   "metadata": {
    "execution": {
     "iopub.execute_input": "2021-12-26T23:00:37.757960Z",
     "iopub.status.busy": "2021-12-26T23:00:37.756571Z",
     "iopub.status.idle": "2021-12-26T23:00:37.766398Z",
     "shell.execute_reply": "2021-12-26T23:00:37.764931Z",
     "shell.execute_reply.started": "2021-12-26T23:00:37.757912Z"
    }
   },
   "outputs": [],
   "source": [
    "from tensorflow.python.client import device_lib\n",
    "tf.config.experimental.list_physical_devices('GPU')\n",
    "print(device_lib.list_local_devices())\n",
    "print(\"Num GPUs Available: \", len(tf.config.experimental.list_physical_devices('GPU')))"
   ]
  },
  {
   "cell_type": "markdown",
   "metadata": {},
   "source": [
    "## define functions and take a look at the audio"
   ]
  },
  {
   "cell_type": "code",
   "execution_count": 35,
   "metadata": {
    "execution": {
     "iopub.execute_input": "2021-12-26T23:06:37.939001Z",
     "iopub.status.busy": "2021-12-26T23:06:37.938623Z",
     "iopub.status.idle": "2021-12-26T23:06:38.858474Z",
     "shell.execute_reply": "2021-12-26T23:06:38.857661Z",
     "shell.execute_reply.started": "2021-12-26T23:06:37.938967Z"
    }
   },
   "outputs": [],
   "source": [
    "testpath = os.path.join('/kaggle/input/ravdess-emotional-speech-audio', \"Actor_01/03-01-01-01-01-01-01.wav\")\n",
    "def generate_sound(path):\n",
    "    ipd.Audio(path)\n",
    "def generate_waveplot(path, title):\n",
    "    plt.title('Waveplot for audio {}'.format(title), size=15)\n",
    "    x,fs = librosa.load(testpath)\n",
    "    librosa.display.waveplot(x, sr=fs)\n",
    "    plt.xlabel(\"Time\")\n",
    "    plt.ylabel(\"Amplitude\")\n",
    "    plt.show()\n",
    "\n",
    "def generate_spectrogram(path, title):\n",
    "    x,fs = librosa.load(testpath)\n",
    "    x = librosa.stft(x)\n",
    "    x = librosa.amplitude_to_db(abs(x))\n",
    "    plt.title('Spectrogram for audio {}'.format(title), size=15)\n",
    "    librosa.display.specshow(x, sr=fs, x_axis='time', y_axis='hz')  \n",
    "    plt.colorbar()\n",
    "generate_sound(testpath)\n",
    "generate_waveplot(testpath, \"sample sound\")\n",
    "generate_spectrogram(testpath,\"sample sound\")"
   ]
  },
  {
   "cell_type": "code",
   "execution_count": 6,
   "metadata": {
    "execution": {
     "iopub.execute_input": "2021-12-26T22:44:30.695683Z",
     "iopub.status.busy": "2021-12-26T22:44:30.695182Z",
     "iopub.status.idle": "2021-12-26T22:44:30.856721Z",
     "shell.execute_reply": "2021-12-26T22:44:30.856006Z",
     "shell.execute_reply.started": "2021-12-26T22:44:30.695636Z"
    }
   },
   "outputs": [],
   "source": [
    "data, rate = librosa.load(testpath)"
   ]
  },
  {
   "cell_type": "markdown",
   "metadata": {},
   "source": [
    "# Emotion Representatin"
   ]
  },
  {
   "cell_type": "markdown",
   "metadata": {
    "execution": {
     "iopub.execute_input": "2021-12-26T23:10:36.646754Z",
     "iopub.status.busy": "2021-12-26T23:10:36.645959Z",
     "iopub.status.idle": "2021-12-26T23:10:36.654400Z",
     "shell.execute_reply": "2021-12-26T23:10:36.652967Z",
     "shell.execute_reply.started": "2021-12-26T23:10:36.646714Z"
    }
   },
   "source": [
    "https://www.youtube.com/watch?v=26_qiXEa8lw </br>\n",
    "\n",
    "* three Dimensional\n",
    "        Valence (negative - positive)\n",
    "        Activation (low - high)\n",
    "        Dominance (Dominated - dominant)\n",
    "\n",
    "* Two Dimensional\n",
    "        arousal\n",
    "        valence\n",
    "* features\n",
    "        zero-crossing rate\n",
    "        chroma_stft\n",
    "        chroma_cqt\n",
    "        chroma_cens\n",
    "        mel-frequency cepstral coefficient\n",
    "        root mean square value\n",
    "        melspectogram"
   ]
  },
  {
   "cell_type": "markdown",
   "metadata": {},
   "source": [
    "https://academic.microsoft.com/topic/2776860830/publication/search?q=Zero-crossing%20rate&qe=And(Composite(F.FId%253D2776860830)%252CTy%253D%270%27)&f=&orderBy=0 </br>\n",
    "\n",
    "is the rate at which a signal changes from positive to negative or from negative to positive. is a key feature to classify percussive sounds"
   ]
  },
  {
   "cell_type": "code",
   "execution_count": 38,
   "metadata": {
    "execution": {
     "iopub.execute_input": "2021-12-26T23:14:00.645347Z",
     "iopub.status.busy": "2021-12-26T23:14:00.643887Z",
     "iopub.status.idle": "2021-12-26T23:14:00.657275Z",
     "shell.execute_reply": "2021-12-26T23:14:00.656261Z",
     "shell.execute_reply.started": "2021-12-26T23:14:00.645282Z"
    }
   },
   "outputs": [],
   "source": [
    "test_zcr = np.mean(librosa.feature.zero_crossing_rate(y=data).T, axis=0)\n",
    "len(test_zcr)"
   ]
  },
  {
   "cell_type": "code",
   "execution_count": 39,
   "metadata": {
    "execution": {
     "iopub.execute_input": "2021-12-26T23:14:11.657632Z",
     "iopub.status.busy": "2021-12-26T23:14:11.657158Z",
     "iopub.status.idle": "2021-12-26T23:14:11.682180Z",
     "shell.execute_reply": "2021-12-26T23:14:11.681160Z",
     "shell.execute_reply.started": "2021-12-26T23:14:11.657599Z"
    }
   },
   "outputs": [],
   "source": [
    "stft = np.abs(librosa.stft(data))\n",
    "test_stft = np.mean(librosa.feature.chroma_stft(S=stft, sr=rate).T, axis=0)\n",
    "len(test_stft)"
   ]
  },
  {
   "cell_type": "markdown",
   "metadata": {},
   "source": [
    "https://www.youtube.com/watch?v=4_SH2nfbQZ8 </br>\n",
    "https://en.wikipedia.org/wiki/Mel-frequency_cepstrum </br>\n",
    "\n",
    "* MFCCs advantages\n",
    "\n",
    "Describe the \"large\" structures of the spectrum\n",
    "\n",
    "ignore fine spectral structures, really don't care on the pitch, etc.\n",
    "\n",
    "work wll in speech and music processing\n",
    "* MFCCs are commonly used as features in speech recognition systems, such as the systems which can automatically recognize numbers spoken into a telephone"
   ]
  },
  {
   "cell_type": "code",
   "execution_count": 40,
   "metadata": {
    "execution": {
     "iopub.execute_input": "2021-12-26T23:16:11.134463Z",
     "iopub.status.busy": "2021-12-26T23:16:11.134155Z",
     "iopub.status.idle": "2021-12-26T23:16:11.160178Z",
     "shell.execute_reply": "2021-12-26T23:16:11.159228Z",
     "shell.execute_reply.started": "2021-12-26T23:16:11.134434Z"
    }
   },
   "outputs": [],
   "source": [
    "test_mfcc = np.mean(librosa.feature.mfcc(y=data, sr=rate).T, axis=0)\n",
    "len(test_mfcc)"
   ]
  },
  {
   "cell_type": "code",
   "execution_count": 41,
   "metadata": {
    "execution": {
     "iopub.execute_input": "2021-12-26T23:16:19.484264Z",
     "iopub.status.busy": "2021-12-26T23:16:19.483988Z",
     "iopub.status.idle": "2021-12-26T23:16:19.495242Z",
     "shell.execute_reply": "2021-12-26T23:16:19.494019Z",
     "shell.execute_reply.started": "2021-12-26T23:16:19.484236Z"
    }
   },
   "outputs": [],
   "source": [
    "test_rms = np.mean(librosa.feature.rms(y=data).T, axis=0)\n",
    "len(test_rms)"
   ]
  },
  {
   "cell_type": "code",
   "execution_count": 42,
   "metadata": {
    "execution": {
     "iopub.execute_input": "2021-12-26T23:16:28.464112Z",
     "iopub.status.busy": "2021-12-26T23:16:28.463364Z",
     "iopub.status.idle": "2021-12-26T23:16:28.484083Z",
     "shell.execute_reply": "2021-12-26T23:16:28.483101Z",
     "shell.execute_reply.started": "2021-12-26T23:16:28.464071Z"
    }
   },
   "outputs": [],
   "source": [
    "test_mels = np.mean(librosa.feature.melspectrogram(y=data, sr=rate).T, axis=0)\n",
    "len(test_mels)"
   ]
  },
  {
   "cell_type": "code",
   "execution_count": 43,
   "metadata": {
    "execution": {
     "iopub.execute_input": "2021-12-26T23:16:37.890153Z",
     "iopub.status.busy": "2021-12-26T23:16:37.889826Z",
     "iopub.status.idle": "2021-12-26T23:16:38.200040Z",
     "shell.execute_reply": "2021-12-26T23:16:38.198608Z",
     "shell.execute_reply.started": "2021-12-26T23:16:37.890124Z"
    }
   },
   "outputs": [],
   "source": [
    "cqt = np.mean(librosa.feature.chroma_cqt(y=data, sr=rate).T, axis=0)\n",
    "len(cqt)"
   ]
  },
  {
   "cell_type": "code",
   "execution_count": 44,
   "metadata": {
    "execution": {
     "iopub.execute_input": "2021-12-26T23:16:45.574655Z",
     "iopub.status.busy": "2021-12-26T23:16:45.574391Z",
     "iopub.status.idle": "2021-12-26T23:16:45.782750Z",
     "shell.execute_reply": "2021-12-26T23:16:45.781906Z",
     "shell.execute_reply.started": "2021-12-26T23:16:45.574629Z"
    }
   },
   "outputs": [],
   "source": [
    "cens = np.mean(librosa.feature.chroma_cens(y=data, sr=rate).T, axis=0)\n",
    "len(cens)"
   ]
  },
  {
   "cell_type": "markdown",
   "metadata": {},
   "source": [
    "# Data Augmentation"
   ]
  },
  {
   "cell_type": "markdown",
   "metadata": {},
   "source": [
    "* noise\n",
    "* time shifting\n",
    "* time stretching\n",
    "* pitch shifting\n",
    "\n",
    "Data augmentation is a method for generating synthetic data\n",
    "\n",
    "\n",
    "Sound wave has following characteristics: Pitch, Loudness, Quality. We need to alter our samples around these characteristics in such a way that they only differ by small factor from original sample."
   ]
  },
  {
   "cell_type": "code",
   "execution_count": 37,
   "metadata": {
    "execution": {
     "iopub.execute_input": "2021-12-26T23:11:44.615946Z",
     "iopub.status.busy": "2021-12-26T23:11:44.613803Z",
     "iopub.status.idle": "2021-12-26T23:11:44.623926Z",
     "shell.execute_reply": "2021-12-26T23:11:44.622779Z",
     "shell.execute_reply.started": "2021-12-26T23:11:44.615882Z"
    }
   },
   "outputs": [],
   "source": [
    "def noise(wav, p):\n",
    "    return wav + p*np.random.normal(0,1,len(wav))\n",
    "def time_shifting(wav,p):\n",
    "    return np.roll(wav,p)\n",
    "def time_stretching(wav,p):\n",
    "    return librosa.effects.time_stretch(wav,p)\n",
    "def pitch_shifting(wav,sr, p):\n",
    "    return librosa.effects.pitch_shift(wav,sr,n_steps=p)"
   ]
  },
  {
   "cell_type": "code",
   "execution_count": 8,
   "metadata": {
    "execution": {
     "iopub.execute_input": "2021-12-26T22:44:33.884819Z",
     "iopub.status.busy": "2021-12-26T22:44:33.884232Z",
     "iopub.status.idle": "2021-12-26T22:44:34.677607Z",
     "shell.execute_reply": "2021-12-26T22:44:34.676512Z",
     "shell.execute_reply.started": "2021-12-26T22:44:33.884761Z"
    }
   },
   "outputs": [],
   "source": [
    "librosa.display.waveplot(pitch_shifting(data,rate,-5), sr=rate)\n",
    "plt.xlabel(\"Time\")\n",
    "plt.ylabel(\"Amplitude\")\n",
    "plt.show()"
   ]
  },
  {
   "cell_type": "code",
   "execution_count": 9,
   "metadata": {
    "execution": {
     "iopub.execute_input": "2021-12-26T22:44:34.681465Z",
     "iopub.status.busy": "2021-12-26T22:44:34.679746Z",
     "iopub.status.idle": "2021-12-26T22:44:34.878908Z",
     "shell.execute_reply": "2021-12-26T22:44:34.877564Z",
     "shell.execute_reply.started": "2021-12-26T22:44:34.681430Z"
    }
   },
   "outputs": [],
   "source": [
    "librosa.display.waveplot(noise(data,0.004), sr=rate)\n",
    "plt.xlabel(\"Time\")\n",
    "plt.ylabel(\"Amplitude\")\n",
    "plt.show()"
   ]
  },
  {
   "cell_type": "code",
   "execution_count": 10,
   "metadata": {
    "execution": {
     "iopub.execute_input": "2021-12-26T22:44:35.758214Z",
     "iopub.status.busy": "2021-12-26T22:44:35.757907Z",
     "iopub.status.idle": "2021-12-26T22:44:36.978338Z",
     "shell.execute_reply": "2021-12-26T22:44:36.977440Z",
     "shell.execute_reply.started": "2021-12-26T22:44:35.758185Z"
    }
   },
   "outputs": [],
   "source": [
    "plt.figure(figsize=(12, 10), dpi=80)\n",
    "plt.subplot(2,2,1)\n",
    "librosa.display.waveplot(noise(data,0.004), sr=rate)\n",
    "plt.title(\"noise\")\n",
    "plt.xlabel(\"Time\")\n",
    "plt.ylabel(\"Amplitude\")\n",
    "plt.subplot(2,2,2)\n",
    "librosa.display.waveplot(time_shifting(data,int(rate*100)), sr=rate)\n",
    "plt.title(\"time shifting\")\n",
    "plt.xlabel(\"Time\")\n",
    "plt.ylabel(\"Amplitude\")\n",
    "plt.subplot(2,2,3)\n",
    "librosa.display.waveplot(time_stretching(data,0.5), sr=rate)\n",
    "plt.title(\"time stretching\")\n",
    "plt.xlabel(\"Time\")\n",
    "plt.ylabel(\"Amplitude\")\n",
    "plt.subplot(2,2,4)\n",
    "librosa.display.waveplot(pitch_shifting(data,rate,-5), sr=rate)\n",
    "plt.title(\"pitch shifting\")\n",
    "plt.xlabel(\"Time\")\n",
    "plt.ylabel(\"Amplitude\")\n",
    "plt.savefig(\"data_augmentations.png\")\n",
    "plt.show()"
   ]
  },
  {
   "cell_type": "markdown",
   "metadata": {},
   "source": [
    "# Extract Data"
   ]
  },
  {
   "cell_type": "code",
   "execution_count": 11,
   "metadata": {
    "execution": {
     "iopub.execute_input": "2021-12-26T22:44:36.980435Z",
     "iopub.status.busy": "2021-12-26T22:44:36.979994Z",
     "iopub.status.idle": "2021-12-26T22:44:37.543797Z",
     "shell.execute_reply": "2021-12-26T22:44:37.543063Z",
     "shell.execute_reply.started": "2021-12-26T22:44:36.980397Z"
    }
   },
   "outputs": [],
   "source": [
    "def files_info_extractor(path):\n",
    "    dir_list = os.listdir(path)\n",
    "    y = []\n",
    "    X = []\n",
    "    for dir in dir_list:\n",
    "        files = os.listdir(os.path.join(ROOT,dir))\n",
    "        for filename in files:\n",
    "        #print(os.path.join(dirname, filename))\n",
    "            l = len(filename)\n",
    "            if (filename[l-3:l] == \"wav\"):\n",
    "                X.append([os.path.join(ROOT,dir,filename),\n",
    "                      int(filename[0:2]),\n",
    "                     int(filename[3:5]),\n",
    "                     int(filename[6:8]),\n",
    "                     int(filename[9:11]),\n",
    "                    int(filename[12:14]),\n",
    "                    int(filename[15:17]),\n",
    "                    int(filename[18:20])])\n",
    "    return X\n",
    "info = files_info_extractor(ROOT)\n",
    "info_df = pd.DataFrame(info, columns =[\"Url\", \n",
    "                               'Modality', \n",
    "                               'Vocal channel',\n",
    "                              'Emotion',\n",
    "                              'Emotional intensity',\n",
    "                              'Statement',\n",
    "                              'Repetition',\n",
    "                              'Actor'])"
   ]
  },
  {
   "cell_type": "code",
   "execution_count": 12,
   "metadata": {
    "execution": {
     "iopub.execute_input": "2021-12-26T22:44:37.545558Z",
     "iopub.status.busy": "2021-12-26T22:44:37.544830Z",
     "iopub.status.idle": "2021-12-26T22:44:37.573527Z",
     "shell.execute_reply": "2021-12-26T22:44:37.572541Z",
     "shell.execute_reply.started": "2021-12-26T22:44:37.545521Z"
    }
   },
   "outputs": [],
   "source": [
    "info_df"
   ]
  },
  {
   "cell_type": "code",
   "execution_count": 13,
   "metadata": {
    "execution": {
     "iopub.execute_input": "2021-12-26T22:44:38.341934Z",
     "iopub.status.busy": "2021-12-26T22:44:38.341456Z",
     "iopub.status.idle": "2021-12-26T22:44:38.577778Z",
     "shell.execute_reply": "2021-12-26T22:44:38.576716Z",
     "shell.execute_reply.started": "2021-12-26T22:44:38.341899Z"
    }
   },
   "outputs": [],
   "source": [
    "plt.title('Count of Emotions', size=16)\n",
    "sns.countplot(info_df[\"Emotion\"])\n",
    "plt.ylabel('Count', size=12)\n",
    "plt.xlabel('Emotions', size=12)\n",
    "sns.despine(top=True, right=True, left=False, bottom=False)\n",
    "plt.show()"
   ]
  },
  {
   "cell_type": "markdown",
   "metadata": {},
   "source": [
    "# Define functions to generate features"
   ]
  },
  {
   "cell_type": "code",
   "execution_count": 14,
   "metadata": {
    "execution": {
     "iopub.execute_input": "2021-12-26T22:44:38.579979Z",
     "iopub.status.busy": "2021-12-26T22:44:38.579665Z",
     "iopub.status.idle": "2021-12-26T22:44:38.593137Z",
     "shell.execute_reply": "2021-12-26T22:44:38.591817Z",
     "shell.execute_reply.started": "2021-12-26T22:44:38.579936Z"
    }
   },
   "outputs": [],
   "source": [
    "def generate_zcr(data,rate):\n",
    "    return np.mean(librosa.feature.zero_crossing_rate(y=data).T, axis=0)\n",
    "def generate_stft(data,rate):\n",
    "    stft = np.abs(librosa.stft(data))\n",
    "    return np.mean(librosa.feature.chroma_stft(S=stft, sr=rate).T, axis=0)\n",
    "def generate_mfcc(data,rate):\n",
    "    return np.mean(librosa.feature.mfcc(y=data, sr=rate).T, axis=0)\n",
    "\n",
    "def generate_rms(data, rate):\n",
    "    return np.mean(librosa.feature.rms(y=data).T, axis=0)\n",
    "def generate_mels(data, rate):\n",
    "    return np.mean(librosa.feature.melspectrogram(y=data, sr=rate).T, axis=0)\n",
    "def generate_cqt(data, rate):\n",
    "    return np.mean(librosa.feature.chroma_cqt(y=data,sr=rate).T,axis=0)\n",
    "def generate_cens(data, rate):\n",
    "    return np.mean(librosa.feature.chroma_cens(y=data,sr=rate).T, axis=0)"
   ]
  },
  {
   "cell_type": "code",
   "execution_count": 15,
   "metadata": {
    "execution": {
     "iopub.execute_input": "2021-12-26T22:44:38.821682Z",
     "iopub.status.busy": "2021-12-26T22:44:38.821358Z",
     "iopub.status.idle": "2021-12-26T22:44:38.846990Z",
     "shell.execute_reply": "2021-12-26T22:44:38.845675Z",
     "shell.execute_reply.started": "2021-12-26T22:44:38.821648Z"
    }
   },
   "outputs": [],
   "source": [
    "def featuresGenerator(data,rate,paras):\n",
    "    features = np.array([])\n",
    "    for para in paras:\n",
    "        if (para == \"zcr\"):\n",
    "            features = np.hstack((features,generate_zcr(data, rate)))\n",
    "        elif (para==\"stft\"):\n",
    "            features = np.hstack((features,generate_stft(data, rate)))\n",
    "        elif (para==\"mfcc\"):\n",
    "            features = np.hstack((features,generate_mfcc(data, rate)))\n",
    "        elif (para == \"rms\"):\n",
    "            featurse = np.hstack((features,generate_rms(data, rate)))\n",
    "        elif (para == \"mels\"):\n",
    "            features = np.hstack((features,generate_mels(data, rate)))\n",
    "        elif (para == \"cqt\"):\n",
    "            features = np.hstack((features,generate_cqt(data, rate)))\n",
    "        elif (para == \"cens\"):\n",
    "            features = np.hstack((features,generate_cens(data,rate)))\n",
    "        else:\n",
    "            print(\"wrong features\")\n",
    "    return features\n",
    "\n",
    "\n",
    "def extract_feature(path,paras, augs):\n",
    "    data, rate = librosa.load(path)\n",
    "    if (len(augs)==0):\n",
    "        return np.array([featuresGenerator(data,rate,paras)])\n",
    "    result = np.array(featuresGenerator(data,rate,paras))\n",
    "    for aug in augs:\n",
    "        if (aug == \"noise\"):\n",
    "            result = np.vstack((result,featuresGenerator(noise(data,0.004),rate,paras)))\n",
    "        elif (aug == \"time_shift\"):\n",
    "            result = np.vstack((result, featuresGenerator(time_shifting(data,int(rate/10)),rate,paras)))\n",
    "        elif (aug == \"time_stretch\"):\n",
    "            result = np.vstack((result, featuresGenerator(time_stretching(data,0.5),rate,paras)))\n",
    "        elif (aug == \"pitch_shift\"):\n",
    "            result = np.vstack((result, featuresGenerator(pitch_shifting(data,rate,-5),rate,paras)))\n",
    "        else:\n",
    "            print(\"wrong augmentation\")\n",
    "    return result\n",
    "\n",
    "def get_features(paras,augs):\n",
    "    x_train =[]\n",
    "    y_train = []\n",
    "    x_val = []\n",
    "    y_val = []\n",
    "    x_test= []\n",
    "    y_test = []\n",
    "    train,rest = train_test_split(info, random_state=0, test_size=0.4)\n",
    "    val, test = train_test_split(rest,random_state=0,test_size=0.5)\n",
    "    for i in range(len(train)):\n",
    "        path = train[i][0]\n",
    "        features = extract_feature(path,paras,augs)\n",
    "        for f in features:\n",
    "            x_train.append(f)\n",
    "            y_train.append(train[i][3])\n",
    "    for i in range(len(val)):\n",
    "        path = val[i][0]\n",
    "        features = extract_feature(path,paras,[])\n",
    "        for f in features:\n",
    "            x_val.append(f)\n",
    "            y_val.append(val[i][3])\n",
    "    for i in range(len(test)):\n",
    "        path = test[i][0]\n",
    "        features = extract_feature(path,paras,[])\n",
    "        for f in features:\n",
    "            x_test.append(f)\n",
    "            y_test.append(test[i][3])\n",
    "    print(\"train contains \"+str(len(train))+\" audios\")\n",
    "    print(\"train contains \"+str(len(val))+\" audios\")\n",
    "    print(\"train contains \"+str(len(test))+\" audios\")\n",
    "    return x_train, y_train, x_val, y_val, x_test, y_test"
   ]
  },
  {
   "cell_type": "markdown",
   "metadata": {},
   "source": [
    "# Define callback list here"
   ]
  },
  {
   "cell_type": "code",
   "execution_count": 24,
   "metadata": {
    "execution": {
     "iopub.execute_input": "2021-12-26T22:57:22.546496Z",
     "iopub.status.busy": "2021-12-26T22:57:22.546034Z",
     "iopub.status.idle": "2021-12-26T22:57:22.553235Z",
     "shell.execute_reply": "2021-12-26T22:57:22.552230Z",
     "shell.execute_reply.started": "2021-12-26T22:57:22.546447Z"
    }
   },
   "outputs": [],
   "source": [
    "#os.system('mkdir \"saved_models\"')\n",
    "#filepath = \"saved_models/weight-model-improvement-{epoch:02d}-{val_accuracy:.2f}-\"+time.strftime(\"%Y%m%d-%H%M%S\")+\".h5\"\n",
    "#checkpoint = ModelCheckpoint(filepath, monitor=\"val_accuracy\",verbose=1,save_best_only=True, model=\"max\", save_weights_only=False)\n",
    "earlystopping = EarlyStopping(monitor=\"val_loss\",patience=20,verbose=1,restore_best_weights=True)\n",
    "reduce_lr = tf.keras.callbacks.ReduceLROnPlateau(\n",
    "    monitor='val_loss', factor=0.1, patience=5, verbose=0,\n",
    "    mode='auto', min_delta=0.0001, cooldown=0, min_lr=0,\n",
    ")\n",
    "log_csv = CSVLogger(\"my_logs.csv\",separator=',', append=False)\n",
    "callback_list = [earlystopping]\n",
    "callback_list_with_reduction = [earlystopping,log_csv,reduce_lr]"
   ]
  },
  {
   "cell_type": "markdown",
   "metadata": {},
   "source": [
    "# Build baseline"
   ]
  },
  {
   "cell_type": "code",
   "execution_count": 18,
   "metadata": {
    "execution": {
     "iopub.execute_input": "2021-12-26T22:44:51.262056Z",
     "iopub.status.busy": "2021-12-26T22:44:51.261104Z",
     "iopub.status.idle": "2021-12-26T22:44:51.271386Z",
     "shell.execute_reply": "2021-12-26T22:44:51.270058Z",
     "shell.execute_reply.started": "2021-12-26T22:44:51.262007Z"
    }
   },
   "outputs": [],
   "source": [
    "def build_baseline(x_train):\n",
    "    model=Sequential()\n",
    "    model.add(Conv1D(256, kernel_size=5, strides=1, padding='same', activation='relu', input_shape=(pd.DataFrame(x_train).shape[1], 1)))\n",
    "    model.add(MaxPooling1D(pool_size=5, strides = 2, padding = 'same'))\n",
    "\n",
    "    model.add(Conv1D(256, kernel_size=5, strides=1, padding='same', activation='relu'))\n",
    "    model.add(MaxPooling1D(pool_size=5, strides = 2, padding = 'same'))\n",
    "\n",
    "    model.add(Flatten())\n",
    "    model.add(Dense(8))\n",
    "    model.add(Activation('softmax'))\n",
    "    model.compile(optimizer = Adam(learning_rate=0.001) , loss = 'categorical_crossentropy' , metrics = ['accuracy'])\n",
    "    return model"
   ]
  },
  {
   "cell_type": "code",
   "execution_count": null,
   "metadata": {
    "execution": {
     "iopub.execute_input": "2021-12-22T20:57:13.095401Z",
     "iopub.status.busy": "2021-12-22T20:57:13.09506Z",
     "iopub.status.idle": "2021-12-22T21:03:08.782961Z",
     "shell.execute_reply": "2021-12-22T21:03:08.778676Z",
     "shell.execute_reply.started": "2021-12-22T20:57:13.095365Z"
    }
   },
   "outputs": [],
   "source": [
    "x_train_2d, y_train, x_val_2d, y_val, x_test_2d, y_test = get_features([\"mfcc\"],[])\n",
    "encoder = OneHotEncoder()\n",
    "y_train = encoder.fit_transform(np.array(y_train).reshape(-1,1)).toarray()\n",
    "y_val = encoder.fit_transform(np.array(y_val).reshape(-1,1)).toarray()\n",
    "y_test = encoder.fit_transform(np.array(y_test).reshape(-1,1)).toarray()"
   ]
  },
  {
   "cell_type": "code",
   "execution_count": null,
   "metadata": {
    "_kg_hide-output": true,
    "execution": {
     "iopub.execute_input": "2021-12-22T21:03:08.786173Z",
     "iopub.status.busy": "2021-12-22T21:03:08.785733Z",
     "iopub.status.idle": "2021-12-22T21:04:23.726834Z",
     "shell.execute_reply": "2021-12-22T21:04:23.725782Z",
     "shell.execute_reply.started": "2021-12-22T21:03:08.786122Z"
    },
    "scrolled": true
   },
   "outputs": [],
   "source": [
    "model = build_baseline(x_train_2d)\n",
    "x_train = np.expand_dims(x_train_2d, axis=2)\n",
    "x_test = np.expand_dims(x_test_2d, axis=2)\n",
    "x_val = np.expand_dims(x_val_2d, axis=2)\n",
    "        \n",
    "history=model.fit(x_train, y_train, batch_size=100, epochs=200, validation_data=(x_val, y_val))\n",
    "loss_history = pd.DataFrame(history.history)\n",
    "loss_history[['accuracy','val_accuracy']].plot()"
   ]
  },
  {
   "cell_type": "code",
   "execution_count": null,
   "metadata": {
    "execution": {
     "iopub.execute_input": "2021-12-22T03:36:45.105045Z",
     "iopub.status.busy": "2021-12-22T03:36:45.104735Z",
     "iopub.status.idle": "2021-12-22T03:36:45.394981Z",
     "shell.execute_reply": "2021-12-22T03:36:45.394147Z",
     "shell.execute_reply.started": "2021-12-22T03:36:45.105012Z"
    }
   },
   "outputs": [],
   "source": [
    "test_performance = []\n",
    "test_performance.append(model.evaluate(x_test,y_test))\n",
    "test_performance"
   ]
  },
  {
   "cell_type": "code",
   "execution_count": null,
   "metadata": {
    "execution": {
     "iopub.execute_input": "2021-12-22T21:04:23.728454Z",
     "iopub.status.busy": "2021-12-22T21:04:23.728198Z",
     "iopub.status.idle": "2021-12-22T21:04:23.734841Z",
     "shell.execute_reply": "2021-12-22T21:04:23.734119Z",
     "shell.execute_reply.started": "2021-12-22T21:04:23.728424Z"
    }
   },
   "outputs": [],
   "source": [
    "json.dump(history.history,open(\"/kaggle/working/baseline_history\",'w'))"
   ]
  },
  {
   "cell_type": "code",
   "execution_count": null,
   "metadata": {
    "execution": {
     "iopub.execute_input": "2021-12-22T03:39:39.338677Z",
     "iopub.status.busy": "2021-12-22T03:39:39.338394Z",
     "iopub.status.idle": "2021-12-22T03:39:39.376887Z",
     "shell.execute_reply": "2021-12-22T03:39:39.376235Z",
     "shell.execute_reply.started": "2021-12-22T03:39:39.338648Z"
    }
   },
   "outputs": [],
   "source": [
    "model.save(\"baseline.h5\")"
   ]
  },
  {
   "cell_type": "code",
   "execution_count": null,
   "metadata": {
    "execution": {
     "iopub.execute_input": "2021-12-22T01:05:48.167574Z",
     "iopub.status.busy": "2021-12-22T01:05:48.167302Z",
     "iopub.status.idle": "2021-12-22T01:05:48.421255Z",
     "shell.execute_reply": "2021-12-22T01:05:48.420319Z",
     "shell.execute_reply.started": "2021-12-22T01:05:48.167547Z"
    }
   },
   "outputs": [],
   "source": [
    "baseline_history = json.load(open(\"/kaggle/working/baseline_history\",\"r\"))\n",
    "plt.plot(baseline_history[\"accuracy\"],label=\"accuracy\")\n",
    "plt.plot(baseline_history[\"val_accuracy\"],label=\"val_accuracy\")\n",
    "plt.legend()\n",
    "plt.savefig(\"baseline_accuracy.png\")\n",
    "plt.show()"
   ]
  },
  {
   "cell_type": "code",
   "execution_count": null,
   "metadata": {
    "execution": {
     "iopub.execute_input": "2021-12-22T01:05:53.907407Z",
     "iopub.status.busy": "2021-12-22T01:05:53.906897Z",
     "iopub.status.idle": "2021-12-22T01:05:54.174638Z",
     "shell.execute_reply": "2021-12-22T01:05:54.173928Z",
     "shell.execute_reply.started": "2021-12-22T01:05:53.907372Z"
    }
   },
   "outputs": [],
   "source": [
    "plt.plot(baseline_history[\"loss\"],label=\"loss\")\n",
    "plt.plot(baseline_history[\"val_loss\"],label=\"val_loss\")\n",
    "plt.legend()\n",
    "plt.ylim((0,5))\n",
    "plt.savefig(\"baseline_loss.png\")\n",
    "plt.show()"
   ]
  },
  {
   "cell_type": "code",
   "execution_count": null,
   "metadata": {
    "execution": {
     "iopub.execute_input": "2021-12-22T01:06:08.72749Z",
     "iopub.status.busy": "2021-12-22T01:06:08.726653Z",
     "iopub.status.idle": "2021-12-22T01:06:08.983626Z",
     "shell.execute_reply": "2021-12-22T01:06:08.98278Z",
     "shell.execute_reply.started": "2021-12-22T01:06:08.72744Z"
    }
   },
   "outputs": [],
   "source": [
    "#baseline_model = build_baseline(x_train)\n",
    "#baseline_model.load_weights(\"baseline_weights.h5\")\n",
    "model.evaluate(x_test,y_test)"
   ]
  },
  {
   "cell_type": "code",
   "execution_count": null,
   "metadata": {
    "execution": {
     "iopub.execute_input": "2021-12-22T01:06:26.986612Z",
     "iopub.status.busy": "2021-12-22T01:06:26.986329Z",
     "iopub.status.idle": "2021-12-22T01:06:27.869352Z",
     "shell.execute_reply": "2021-12-22T01:06:27.868536Z",
     "shell.execute_reply.started": "2021-12-22T01:06:26.986582Z"
    }
   },
   "outputs": [],
   "source": [
    "from keras.utils.vis_utils import plot_model\n",
    "plot_model(model,to_file=\"baseline_model.png\", show_shapes=True, show_layer_names=True)"
   ]
  },
  {
   "cell_type": "markdown",
   "metadata": {},
   "source": [
    "# Analyze Data augmentation Techniques"
   ]
  },
  {
   "cell_type": "code",
   "execution_count": null,
   "metadata": {
    "execution": {
     "iopub.execute_input": "2021-12-22T03:40:14.214753Z",
     "iopub.status.busy": "2021-12-22T03:40:14.21402Z",
     "iopub.status.idle": "2021-12-22T03:48:23.61964Z",
     "shell.execute_reply": "2021-12-22T03:48:23.618691Z",
     "shell.execute_reply.started": "2021-12-22T03:40:14.214702Z"
    },
    "scrolled": true
   },
   "outputs": [],
   "source": [
    "x_train_2d, y_train, x_val_2d, y_val, x_test_2d, y_test = get_features([\"mfcc\"],[\"noise\"])\n",
    "encoder = OneHotEncoder()\n",
    "y_train = encoder.fit_transform(np.array(y_train).reshape(-1,1)).toarray()\n",
    "y_val = encoder.fit_transform(np.array(y_val).reshape(-1,1)).toarray()\n",
    "y_test = encoder.fit_transform(np.array(y_test).reshape(-1,1)).toarray()\n",
    "model = build_baseline(x_train_2d)\n",
    "x_train = np.expand_dims(x_train_2d, axis=2)\n",
    "x_test = np.expand_dims(x_test_2d, axis=2)\n",
    "x_val = np.expand_dims(x_val_2d, axis=2)\n",
    "history=model.fit(x_train, y_train, batch_size=64, epochs=200, validation_data=(x_val, y_val))"
   ]
  },
  {
   "cell_type": "code",
   "execution_count": null,
   "metadata": {
    "execution": {
     "iopub.execute_input": "2021-12-22T03:48:23.622123Z",
     "iopub.status.busy": "2021-12-22T03:48:23.621778Z",
     "iopub.status.idle": "2021-12-22T03:48:23.953436Z",
     "shell.execute_reply": "2021-12-22T03:48:23.952409Z",
     "shell.execute_reply.started": "2021-12-22T03:48:23.622076Z"
    }
   },
   "outputs": [],
   "source": [
    "json.dump(history.history,open(\"/kaggle/working/noise_history\",'w'))\n",
    "model.save(\"noise.h5\")\n",
    "test_performance.append(model.evaluate(x_test,y_test))\n",
    "test_performance"
   ]
  },
  {
   "cell_type": "code",
   "execution_count": null,
   "metadata": {
    "execution": {
     "iopub.execute_input": "2021-12-22T03:51:52.567274Z",
     "iopub.status.busy": "2021-12-22T03:51:52.566667Z",
     "iopub.status.idle": "2021-12-22T04:01:23.818106Z",
     "shell.execute_reply": "2021-12-22T04:01:23.817023Z",
     "shell.execute_reply.started": "2021-12-22T03:51:52.567226Z"
    },
    "scrolled": true
   },
   "outputs": [],
   "source": [
    "x_train_2d, y_train, x_val_2d, y_val, x_test_2d, y_test = get_features([\"mfcc\"],[\"noise\",\"time_shift\"])\n",
    "encoder = OneHotEncoder()\n",
    "y_train = encoder.fit_transform(np.array(y_train).reshape(-1,1)).toarray()\n",
    "y_val = encoder.fit_transform(np.array(y_val).reshape(-1,1)).toarray()\n",
    "y_test = encoder.fit_transform(np.array(y_test).reshape(-1,1)).toarray()\n",
    "model = build_baseline(x_train_2d)\n",
    "x_train = np.expand_dims(x_train_2d, axis=2)\n",
    "x_test = np.expand_dims(x_test_2d, axis=2)\n",
    "x_val = np.expand_dims(x_val_2d, axis=2)\n",
    "history=model.fit(x_train, y_train, batch_size=64, epochs=200, validation_data=(x_val, y_val))"
   ]
  },
  {
   "cell_type": "code",
   "execution_count": null,
   "metadata": {
    "execution": {
     "iopub.execute_input": "2021-12-22T04:01:23.820526Z",
     "iopub.status.busy": "2021-12-22T04:01:23.820291Z",
     "iopub.status.idle": "2021-12-22T04:01:24.125156Z",
     "shell.execute_reply": "2021-12-22T04:01:24.124139Z",
     "shell.execute_reply.started": "2021-12-22T04:01:23.820494Z"
    }
   },
   "outputs": [],
   "source": [
    "json.dump(history.history,open(\"/kaggle/working/noise_timeshift_history\",'w'))\n",
    "model.save(\"noise_timeshift.h5\")\n",
    "test_performance.append(model.evaluate(x_test,y_test))\n",
    "test_performance"
   ]
  },
  {
   "cell_type": "code",
   "execution_count": null,
   "metadata": {
    "execution": {
     "iopub.execute_input": "2021-12-22T04:01:58.223545Z",
     "iopub.status.busy": "2021-12-22T04:01:58.223235Z",
     "iopub.status.idle": "2021-12-22T04:14:52.320098Z",
     "shell.execute_reply": "2021-12-22T04:14:52.318913Z",
     "shell.execute_reply.started": "2021-12-22T04:01:58.22351Z"
    },
    "scrolled": true
   },
   "outputs": [],
   "source": [
    "x_train_2d, y_train, x_val_2d, y_val, x_test_2d, y_test = get_features([\"mfcc\"],[\"noise\",\"time_shift\",\"time_stretch\"])\n",
    "encoder = OneHotEncoder()\n",
    "y_train = encoder.fit_transform(np.array(y_train).reshape(-1,1)).toarray()\n",
    "y_val = encoder.fit_transform(np.array(y_val).reshape(-1,1)).toarray()\n",
    "y_test = encoder.fit_transform(np.array(y_test).reshape(-1,1)).toarray()\n",
    "model = build_baseline(x_train_2d)\n",
    "x_train = np.expand_dims(x_train_2d, axis=2)\n",
    "x_test = np.expand_dims(x_test_2d, axis=2)\n",
    "x_val = np.expand_dims(x_val_2d, axis=2)\n",
    "history=model.fit(x_train, y_train, batch_size=64, epochs=200, validation_data=(x_val, y_val))"
   ]
  },
  {
   "cell_type": "code",
   "execution_count": null,
   "metadata": {
    "execution": {
     "iopub.execute_input": "2021-12-22T04:14:52.322475Z",
     "iopub.status.busy": "2021-12-22T04:14:52.322204Z",
     "iopub.status.idle": "2021-12-22T04:14:52.638211Z",
     "shell.execute_reply": "2021-12-22T04:14:52.637313Z",
     "shell.execute_reply.started": "2021-12-22T04:14:52.322441Z"
    }
   },
   "outputs": [],
   "source": [
    "json.dump(history.history,open(\"/kaggle/working/noise_timeshift_timestretch_history\",'w'))\n",
    "model.save(\"noise_timeshift_timestretch.h5\")\n",
    "test_performance.append(model.evaluate(x_test,y_test))\n",
    "test_performance"
   ]
  },
  {
   "cell_type": "code",
   "execution_count": null,
   "metadata": {
    "execution": {
     "iopub.execute_input": "2021-12-22T01:51:39.56896Z",
     "iopub.status.busy": "2021-12-22T01:51:39.568568Z",
     "iopub.status.idle": "2021-12-22T02:07:18.059735Z",
     "shell.execute_reply": "2021-12-22T02:07:18.058992Z",
     "shell.execute_reply.started": "2021-12-22T01:51:39.568917Z"
    },
    "scrolled": true
   },
   "outputs": [],
   "source": [
    "x_train_2d, y_train, x_val_2d, y_val, x_test_2d, y_test = get_features([\"mfcc\"],[\"noise\",\"time_shift\",\"time_stretch\",\"pitch_shift\"])\n",
    "encoder = OneHotEncoder()\n",
    "y_train = encoder.fit_transform(np.array(y_train).reshape(-1,1)).toarray()\n",
    "y_val = encoder.fit_transform(np.array(y_val).reshape(-1,1)).toarray()\n",
    "y_test = encoder.fit_transform(np.array(y_test).reshape(-1,1)).toarray()\n",
    "model = build_baseline(x_train_2d)\n",
    "x_train = np.expand_dims(x_train_2d, axis=2)\n",
    "x_test = np.expand_dims(x_test_2d, axis=2)\n",
    "x_val = np.expand_dims(x_val_2d, axis=2)\n",
    "history=model.fit(x_train, y_train, batch_size=64, epochs=200, validation_data=(x_val, y_val))"
   ]
  },
  {
   "cell_type": "code",
   "execution_count": null,
   "metadata": {
    "execution": {
     "iopub.execute_input": "2021-12-22T02:08:54.546847Z",
     "iopub.status.busy": "2021-12-22T02:08:54.546571Z",
     "iopub.status.idle": "2021-12-22T02:08:54.565716Z",
     "shell.execute_reply": "2021-12-22T02:08:54.565069Z",
     "shell.execute_reply.started": "2021-12-22T02:08:54.546803Z"
    }
   },
   "outputs": [],
   "source": [
    "json.dump(history.history,open(\"/kaggle/working/noise_timeshift_timestretch_pitchshift_history\",'w'))\n",
    "model.save_weights(\"noise_timeshift_timestretch_pitchshift_weights.h5\")"
   ]
  },
  {
   "cell_type": "code",
   "execution_count": null,
   "metadata": {
    "execution": {
     "iopub.execute_input": "2021-12-22T02:23:28.925048Z",
     "iopub.status.busy": "2021-12-22T02:23:28.924737Z",
     "iopub.status.idle": "2021-12-22T02:23:29.244179Z",
     "shell.execute_reply": "2021-12-22T02:23:29.243368Z",
     "shell.execute_reply.started": "2021-12-22T02:23:28.925007Z"
    }
   },
   "outputs": [],
   "source": [
    "baseline_history = json.load(open(\"/kaggle/working/baseline_history\",\"r\"))\n",
    "noise_history = json.load(open(\"/kaggle/working/noise_history\",\"r\"))\n",
    "noise_timeshift_history = json.load(open(\"/kaggle/working/noise_timeshift_history\",\"r\"))\n",
    "noise_timeshift_timestretch_history = json.load(open(\"/kaggle/working/noise_timeshift_timestretch_history\",\"r\"))\n",
    "noise_timeshift_timestretch_pitchshift_history = json.load(open(\"/kaggle/working/noise_timeshift_timestretch_pitchshift_history\",\"r\"))\n",
    "plt.plot(baseline_history[\"val_accuracy\"],label=\"baseline\")\n",
    "plt.plot(noise_history[\"val_accuracy\"],label=\"noise\")\n",
    "plt.plot(noise_timeshift_history[\"val_accuracy\"],label=\"noise timeshift\")\n",
    "plt.plot(noise_timeshift_timestretch_history[\"val_accuracy\"],label=\"noise timeshift timestretch\")\n",
    "plt.plot(noise_timeshift_timestretch_pitchshift_history[\"val_accuracy\"],label=\"noise timeshift timestretch pitchshift\")\n",
    "plt.legend()\n",
    "plt.savefig(\"data_augs_acc.png\")\n",
    "plt.show()"
   ]
  },
  {
   "cell_type": "code",
   "execution_count": null,
   "metadata": {
    "execution": {
     "iopub.execute_input": "2021-12-22T02:23:33.757711Z",
     "iopub.status.busy": "2021-12-22T02:23:33.757344Z",
     "iopub.status.idle": "2021-12-22T02:23:34.093437Z",
     "shell.execute_reply": "2021-12-22T02:23:34.092508Z",
     "shell.execute_reply.started": "2021-12-22T02:23:33.75766Z"
    }
   },
   "outputs": [],
   "source": [
    "plt.plot(baseline_history[\"val_loss\"],label=\"baseline\")\n",
    "plt.plot(noise_history[\"val_loss\"],label=\"noise\")\n",
    "plt.plot(noise_timeshift_history[\"val_loss\"],label=\"noise timeshift\")\n",
    "plt.plot(noise_timeshift_timestretch_history[\"val_loss\"],label=\"noise timeshift timestretch\")\n",
    "plt.plot(noise_timeshift_timestretch_pitchshift_history[\"val_loss\"],label=\"noise timeshift timestretch pitchshift\")\n",
    "plt.legend()\n",
    "plt.ylim((0,5))\n",
    "plt.savefig(\"data_augs_loss.png\")\n",
    "plt.show()"
   ]
  },
  {
   "cell_type": "markdown",
   "metadata": {},
   "source": [
    "# Analyze Features selection\n",
    "* zero-crossing rate\n",
    "* mel-frequency cepstral coefficient\n",
    "* melspectogram\n",
    "* chroma_stft\n",
    "* chroma_cqt\n",
    "* chroma_cens\n"
   ]
  },
  {
   "cell_type": "code",
   "execution_count": null,
   "metadata": {
    "execution": {
     "iopub.execute_input": "2021-12-22T18:48:08.059473Z",
     "iopub.status.busy": "2021-12-22T18:48:08.059138Z",
     "iopub.status.idle": "2021-12-22T18:55:14.960924Z",
     "shell.execute_reply": "2021-12-22T18:55:14.960055Z",
     "shell.execute_reply.started": "2021-12-22T18:48:08.059442Z"
    },
    "scrolled": true
   },
   "outputs": [],
   "source": [
    "x_train_2d, y_train, x_val_2d, y_val, x_test_2d, y_test = get_features([\"mfcc\"],[])\n",
    "encoder = OneHotEncoder()\n",
    "y_train = encoder.fit_transform(np.array(y_train).reshape(-1,1)).toarray()\n",
    "y_val = encoder.fit_transform(np.array(y_val).reshape(-1,1)).toarray()\n",
    "y_test = encoder.fit_transform(np.array(y_test).reshape(-1,1)).toarray()\n",
    "mfcc_model = build_baseline(x_train_2d)\n",
    "x_train = np.expand_dims(x_train_2d, axis=2)\n",
    "x_test = np.expand_dims(x_test_2d, axis=2)\n",
    "x_val = np.expand_dims(x_val_2d, axis=2)\n",
    "mfcc_history=mfcc_model.fit(x_train, y_train, batch_size=64, epochs=200, validation_data=(x_val, y_val))"
   ]
  },
  {
   "cell_type": "code",
   "execution_count": null,
   "metadata": {
    "execution": {
     "iopub.execute_input": "2021-12-22T18:57:28.451961Z",
     "iopub.status.busy": "2021-12-22T18:57:28.45163Z",
     "iopub.status.idle": "2021-12-22T18:57:28.459249Z",
     "shell.execute_reply": "2021-12-22T18:57:28.458222Z",
     "shell.execute_reply.started": "2021-12-22T18:57:28.451923Z"
    }
   },
   "outputs": [],
   "source": [
    "json.dump(mfcc_history.history,open(\"/kaggle/working/mfcc_history\",'w'))"
   ]
  },
  {
   "cell_type": "code",
   "execution_count": null,
   "metadata": {
    "execution": {
     "iopub.execute_input": "2021-12-22T18:57:47.546842Z",
     "iopub.status.busy": "2021-12-22T18:57:47.546528Z",
     "iopub.status.idle": "2021-12-22T19:08:35.570753Z",
     "shell.execute_reply": "2021-12-22T19:08:35.570112Z",
     "shell.execute_reply.started": "2021-12-22T18:57:47.546811Z"
    },
    "scrolled": true
   },
   "outputs": [],
   "source": [
    "x_train_2d, y_train, x_val_2d, y_val, x_test_2d, y_test = get_features([\"mels\"],[])\n",
    "encoder = OneHotEncoder()\n",
    "y_train = encoder.fit_transform(np.array(y_train).reshape(-1,1)).toarray()\n",
    "y_val = encoder.fit_transform(np.array(y_val).reshape(-1,1)).toarray()\n",
    "y_test = encoder.fit_transform(np.array(y_test).reshape(-1,1)).toarray()\n",
    "mels_model = build_baseline(x_train_2d)\n",
    "x_train = np.expand_dims(x_train_2d, axis=2)\n",
    "x_test = np.expand_dims(x_test_2d, axis=2)\n",
    "x_val = np.expand_dims(x_val_2d, axis=2)\n",
    "mels_history=mels_model.fit(x_train, y_train, batch_size=64, epochs=200, validation_data=(x_val, y_val))"
   ]
  },
  {
   "cell_type": "code",
   "execution_count": null,
   "metadata": {
    "execution": {
     "iopub.execute_input": "2021-12-22T19:09:13.604094Z",
     "iopub.status.busy": "2021-12-22T19:09:13.603205Z",
     "iopub.status.idle": "2021-12-22T19:09:13.61059Z",
     "shell.execute_reply": "2021-12-22T19:09:13.609748Z",
     "shell.execute_reply.started": "2021-12-22T19:09:13.604051Z"
    }
   },
   "outputs": [],
   "source": [
    "json.dump(mels_history.history,open(\"/kaggle/working/mels_history\",'w'))"
   ]
  },
  {
   "cell_type": "code",
   "execution_count": null,
   "metadata": {
    "execution": {
     "iopub.execute_input": "2021-12-22T19:10:34.051548Z",
     "iopub.status.busy": "2021-12-22T19:10:34.050471Z",
     "iopub.status.idle": "2021-12-22T19:22:27.115341Z",
     "shell.execute_reply": "2021-12-22T19:22:27.114682Z",
     "shell.execute_reply.started": "2021-12-22T19:10:34.051469Z"
    },
    "scrolled": true
   },
   "outputs": [],
   "source": [
    "x_train_2d, y_train, x_val_2d, y_val, x_test_2d, y_test = get_features([\"mels\",\"mfcc\"],[])\n",
    "encoder = OneHotEncoder()\n",
    "y_train = encoder.fit_transform(np.array(y_train).reshape(-1,1)).toarray()\n",
    "y_val = encoder.fit_transform(np.array(y_val).reshape(-1,1)).toarray()\n",
    "y_test = encoder.fit_transform(np.array(y_test).reshape(-1,1)).toarray()\n",
    "mels_mfcc_model = build_baseline(x_train_2d)\n",
    "x_train = np.expand_dims(x_train_2d, axis=2)\n",
    "x_test = np.expand_dims(x_test_2d, axis=2)\n",
    "x_val = np.expand_dims(x_val_2d, axis=2)\n",
    "mels_mfcc_history=mels_mfcc_model.fit(x_train, y_train, batch_size=64, epochs=200, validation_data=(x_val, y_val))"
   ]
  },
  {
   "cell_type": "code",
   "execution_count": null,
   "metadata": {
    "execution": {
     "iopub.execute_input": "2021-12-22T19:24:56.15461Z",
     "iopub.status.busy": "2021-12-22T19:24:56.153613Z",
     "iopub.status.idle": "2021-12-22T19:24:56.162066Z",
     "shell.execute_reply": "2021-12-22T19:24:56.160718Z",
     "shell.execute_reply.started": "2021-12-22T19:24:56.154565Z"
    }
   },
   "outputs": [],
   "source": [
    "json.dump(mels_mfcc_history.history,open(\"/kaggle/working/mels_mfcc_history\",'w'))"
   ]
  },
  {
   "cell_type": "code",
   "execution_count": null,
   "metadata": {
    "execution": {
     "iopub.execute_input": "2021-12-22T19:28:45.964108Z",
     "iopub.status.busy": "2021-12-22T19:28:45.963195Z",
     "iopub.status.idle": "2021-12-22T19:35:49.498282Z",
     "shell.execute_reply": "2021-12-22T19:35:49.497159Z",
     "shell.execute_reply.started": "2021-12-22T19:28:45.964066Z"
    },
    "scrolled": true
   },
   "outputs": [],
   "source": [
    "x_train_2d, y_train, x_val_2d, y_val, x_test_2d, y_test = get_features([\"mfcc\",\"zcr\"],[])\n",
    "encoder = OneHotEncoder()\n",
    "y_train = encoder.fit_transform(np.array(y_train).reshape(-1,1)).toarray()\n",
    "y_val = encoder.fit_transform(np.array(y_val).reshape(-1,1)).toarray()\n",
    "y_test = encoder.fit_transform(np.array(y_test).reshape(-1,1)).toarray()\n",
    "mfcc_zcr_model = build_baseline(x_train_2d)\n",
    "x_train = np.expand_dims(x_train_2d, axis=2)\n",
    "x_test = np.expand_dims(x_test_2d, axis=2)\n",
    "x_val = np.expand_dims(x_val_2d, axis=2)\n",
    "mfcc_zcr_history=mfcc_zcr_model.fit(x_train, y_train, batch_size=64, epochs=200, validation_data=(x_val, y_val))"
   ]
  },
  {
   "cell_type": "code",
   "execution_count": null,
   "metadata": {
    "execution": {
     "iopub.execute_input": "2021-12-22T19:36:14.220379Z",
     "iopub.status.busy": "2021-12-22T19:36:14.220081Z",
     "iopub.status.idle": "2021-12-22T19:36:14.227335Z",
     "shell.execute_reply": "2021-12-22T19:36:14.22635Z",
     "shell.execute_reply.started": "2021-12-22T19:36:14.220351Z"
    }
   },
   "outputs": [],
   "source": [
    "json.dump(mfcc_zcr_history.history,open(\"/kaggle/working/mfcc_zcr_history\",'w'))"
   ]
  },
  {
   "cell_type": "code",
   "execution_count": null,
   "metadata": {
    "execution": {
     "iopub.execute_input": "2021-12-22T19:38:58.988031Z",
     "iopub.status.busy": "2021-12-22T19:38:58.987411Z",
     "iopub.status.idle": "2021-12-22T19:52:01.291534Z",
     "shell.execute_reply": "2021-12-22T19:52:01.290703Z",
     "shell.execute_reply.started": "2021-12-22T19:38:58.987992Z"
    },
    "scrolled": true
   },
   "outputs": [],
   "source": [
    "x_train_2d, y_train, x_val_2d, y_val, x_test_2d, y_test = get_features([\"mfcc\",\"cens\"],[])\n",
    "encoder = OneHotEncoder()\n",
    "y_train = encoder.fit_transform(np.array(y_train).reshape(-1,1)).toarray()\n",
    "y_val = encoder.fit_transform(np.array(y_val).reshape(-1,1)).toarray()\n",
    "y_test = encoder.fit_transform(np.array(y_test).reshape(-1,1)).toarray()\n",
    "mfcc_cens_model = build_baseline(x_train_2d)\n",
    "x_train = np.expand_dims(x_train_2d, axis=2)\n",
    "x_test = np.expand_dims(x_test_2d, axis=2)\n",
    "x_val = np.expand_dims(x_val_2d, axis=2)\n",
    "mfcc_cens_history=mfcc_cens_model.fit(x_train, y_train, batch_size=64, epochs=200, validation_data=(x_val, y_val))"
   ]
  },
  {
   "cell_type": "code",
   "execution_count": null,
   "metadata": {
    "execution": {
     "iopub.execute_input": "2021-12-22T19:52:55.472473Z",
     "iopub.status.busy": "2021-12-22T19:52:55.471831Z",
     "iopub.status.idle": "2021-12-22T19:52:55.478915Z",
     "shell.execute_reply": "2021-12-22T19:52:55.478267Z",
     "shell.execute_reply.started": "2021-12-22T19:52:55.472436Z"
    }
   },
   "outputs": [],
   "source": [
    "json.dump(mfcc_cens_history.history,open(\"/kaggle/working/mfcc_cens_history\",'w'))"
   ]
  },
  {
   "cell_type": "code",
   "execution_count": null,
   "metadata": {
    "execution": {
     "iopub.execute_input": "2021-12-22T19:55:25.845584Z",
     "iopub.status.busy": "2021-12-22T19:55:25.84528Z",
     "iopub.status.idle": "2021-12-22T20:15:30.341199Z",
     "shell.execute_reply": "2021-12-22T20:15:30.340393Z",
     "shell.execute_reply.started": "2021-12-22T19:55:25.845553Z"
    },
    "scrolled": true
   },
   "outputs": [],
   "source": [
    "x_train_2d, y_train, x_val_2d, y_val, x_test_2d, y_test = get_features([\"mfcc\",\"cens\",\"cqt\",\"stft\"],[])\n",
    "encoder = OneHotEncoder()\n",
    "y_train = encoder.fit_transform(np.array(y_train).reshape(-1,1)).toarray()\n",
    "y_val = encoder.fit_transform(np.array(y_val).reshape(-1,1)).toarray()\n",
    "y_test = encoder.fit_transform(np.array(y_test).reshape(-1,1)).toarray()\n",
    "mfcc_chroma_model = build_baseline(x_train_2d)\n",
    "x_train = np.expand_dims(x_train_2d, axis=2)\n",
    "x_test = np.expand_dims(x_test_2d, axis=2)\n",
    "x_val = np.expand_dims(x_val_2d, axis=2)\n",
    "mfcc_chroma_history=mfcc_chroma_model.fit(x_train, y_train, batch_size=64, epochs=200, validation_data=(x_val, y_val))"
   ]
  },
  {
   "cell_type": "code",
   "execution_count": null,
   "metadata": {
    "execution": {
     "iopub.execute_input": "2021-12-22T20:19:10.658159Z",
     "iopub.status.busy": "2021-12-22T20:19:10.655997Z",
     "iopub.status.idle": "2021-12-22T20:19:10.665959Z",
     "shell.execute_reply": "2021-12-22T20:19:10.665329Z",
     "shell.execute_reply.started": "2021-12-22T20:19:10.658118Z"
    }
   },
   "outputs": [],
   "source": [
    "json.dump(mfcc_chroma_history.history,open(\"/kaggle/working/mfcc_chroma_history\",'w'))"
   ]
  },
  {
   "cell_type": "code",
   "execution_count": null,
   "metadata": {
    "execution": {
     "iopub.execute_input": "2021-12-22T20:19:59.301017Z",
     "iopub.status.busy": "2021-12-22T20:19:59.300506Z",
     "iopub.status.idle": "2021-12-22T20:19:59.623055Z",
     "shell.execute_reply": "2021-12-22T20:19:59.622255Z",
     "shell.execute_reply.started": "2021-12-22T20:19:59.300857Z"
    }
   },
   "outputs": [],
   "source": [
    "mfcc_history = json.load(open(\"/kaggle/working/mfcc_history\",\"r\"))\n",
    "mels_history = json.load(open(\"/kaggle/working/mels_history\",\"r\"))\n",
    "mels_mfcc_history = json.load(open(\"/kaggle/working/mels_mfcc_history\",\"r\"))\n",
    "mfcc_zcr_history = json.load(open(\"/kaggle/working/mfcc_zcr_history\",\"r\"))\n",
    "mfcc_cens_history = json.load(open(\"/kaggle/working/mfcc_cens_history\",\"r\"))\n",
    "mfcc_chroma_history = json.load(open(\"/kaggle/working/mfcc_chroma_history\",\"r\"))\n",
    "plt.plot(mfcc_history[\"val_accuracy\"],label=\"mfcc\")\n",
    "plt.plot(mels_history[\"val_accuracy\"],label=\"mels\")\n",
    "plt.plot(mels_mfcc_history[\"val_accuracy\"],label=\"mfcc mels\")\n",
    "plt.plot(mfcc_zcr_history[\"val_accuracy\"],label=\"mfcc zcr\")\n",
    "plt.plot(mfcc_cens_history[\"val_accuracy\"],label=\"mfcc cens\")\n",
    "plt.plot(mfcc_chroma_history[\"val_accuracy\"],label=\"mfcc chroma\")\n",
    "plt.legend()\n",
    "plt.savefig(\"features_acc.png\")\n",
    "plt.show()"
   ]
  },
  {
   "cell_type": "code",
   "execution_count": null,
   "metadata": {
    "execution": {
     "iopub.execute_input": "2021-12-22T20:20:36.075871Z",
     "iopub.status.busy": "2021-12-22T20:20:36.07543Z",
     "iopub.status.idle": "2021-12-22T20:20:36.385685Z",
     "shell.execute_reply": "2021-12-22T20:20:36.385003Z",
     "shell.execute_reply.started": "2021-12-22T20:20:36.075821Z"
    }
   },
   "outputs": [],
   "source": [
    "plt.plot(mfcc_history[\"val_loss\"],label=\"mfcc\")\n",
    "plt.plot(mels_history[\"val_loss\"],label=\"mels\")\n",
    "plt.plot(mels_mfcc_history[\"val_loss\"],label=\"mfcc mels\")\n",
    "plt.plot(mfcc_zcr_history[\"val_loss\"],label=\"mfcc zcr\")\n",
    "plt.plot(mfcc_cens_history[\"val_loss\"],label=\"mfcc cens\")\n",
    "plt.plot(mfcc_chroma_history[\"val_loss\"],label=\"mfcc chroma\")\n",
    "plt.legend()\n",
    "plt.ylim((0,15))\n",
    "plt.savefig(\"features_loss.png\")\n",
    "plt.show()"
   ]
  },
  {
   "cell_type": "code",
   "execution_count": null,
   "metadata": {},
   "outputs": [],
   "source": []
  },
  {
   "cell_type": "markdown",
   "metadata": {},
   "source": [
    "# Analyze Learning rate: decay"
   ]
  },
  {
   "cell_type": "code",
   "execution_count": null,
   "metadata": {
    "execution": {
     "iopub.execute_input": "2021-12-25T21:30:37.432154Z",
     "iopub.status.busy": "2021-12-25T21:30:37.431775Z",
     "iopub.status.idle": "2021-12-25T21:30:37.442315Z",
     "shell.execute_reply": "2021-12-25T21:30:37.441338Z",
     "shell.execute_reply.started": "2021-12-25T21:30:37.43212Z"
    }
   },
   "outputs": [],
   "source": [
    "def build_lr(x_train):\n",
    "    model=Sequential()\n",
    "    model.add(Conv1D(256, kernel_size=5, strides=1, padding='same', activation='relu', input_shape=(pd.DataFrame(x_train).shape[1], 1)))\n",
    "    model.add(MaxPooling1D(pool_size=5, strides = 2, padding = 'same'))\n",
    "\n",
    "    model.add(Conv1D(256, kernel_size=5, strides=1, padding='same', activation='relu'))\n",
    "    model.add(MaxPooling1D(pool_size=5, strides = 2, padding = 'same'))\n",
    "\n",
    "    model.add(Flatten())\n",
    "    model.add(Dense(8))\n",
    "    model.add(Activation('softmax'))\n",
    "    model.compile(optimizer = Adam(learning_rate=0.001) , loss = 'categorical_crossentropy' , metrics = ['accuracy'])\n",
    "    return model"
   ]
  },
  {
   "cell_type": "code",
   "execution_count": null,
   "metadata": {},
   "outputs": [],
   "source": [
    "x_train_2d, y_train, x_val_2d, y_val, x_test_2d, y_test = get_features([\"mfcc\"],[])\n",
    "encoder = OneHotEncoder()\n",
    "y_train = encoder.fit_transform(np.array(y_train).reshape(-1,1)).toarray()\n",
    "y_val = encoder.fit_transform(np.array(y_val).reshape(-1,1)).toarray()\n",
    "y_test = encoder.fit_transform(np.array(y_test).reshape(-1,1)).toarray()\n",
    "x_train = np.expand_dims(x_train_2d, axis=2)\n",
    "x_test = np.expand_dims(x_test_2d, axis=2)\n",
    "x_val = np.expand_dims(x_val_2d, axis=2)"
   ]
  },
  {
   "cell_type": "code",
   "execution_count": null,
   "metadata": {
    "execution": {
     "iopub.execute_input": "2021-12-25T21:30:54.504571Z",
     "iopub.status.busy": "2021-12-25T21:30:54.503506Z",
     "iopub.status.idle": "2021-12-25T21:37:50.632119Z",
     "shell.execute_reply": "2021-12-25T21:37:50.63122Z",
     "shell.execute_reply.started": "2021-12-25T21:30:54.504509Z"
    },
    "scrolled": true
   },
   "outputs": [],
   "source": [
    "lr_model = build_lr(x_train_2d)\n",
    "lr_history=lr_model.fit(x_train, y_train, batch_size=64, epochs=600, validation_data=(x_val, y_val))"
   ]
  },
  {
   "cell_type": "code",
   "execution_count": null,
   "metadata": {
    "execution": {
     "iopub.execute_input": "2021-12-25T21:37:50.634396Z",
     "iopub.status.busy": "2021-12-25T21:37:50.633829Z",
     "iopub.status.idle": "2021-12-25T21:37:50.643651Z",
     "shell.execute_reply": "2021-12-25T21:37:50.643015Z",
     "shell.execute_reply.started": "2021-12-25T21:37:50.634358Z"
    }
   },
   "outputs": [],
   "source": [
    "json.dump(lr_history.history,open(\"/kaggle/working/lr_history\",'w'))"
   ]
  },
  {
   "cell_type": "code",
   "execution_count": null,
   "metadata": {
    "execution": {
     "iopub.execute_input": "2021-12-25T21:37:50.645886Z",
     "iopub.status.busy": "2021-12-25T21:37:50.645179Z",
     "iopub.status.idle": "2021-12-25T21:37:50.658734Z",
     "shell.execute_reply": "2021-12-25T21:37:50.657856Z",
     "shell.execute_reply.started": "2021-12-25T21:37:50.645848Z"
    }
   },
   "outputs": [],
   "source": [
    "def build_lower_lr(x_train):\n",
    "    model=Sequential()\n",
    "    model.add(Conv1D(256, kernel_size=5, strides=1, padding='same', activation='relu', input_shape=(pd.DataFrame(x_train).shape[1], 1)))\n",
    "    model.add(MaxPooling1D(pool_size=5, strides = 2, padding = 'same'))\n",
    "\n",
    "    model.add(Conv1D(256, kernel_size=5, strides=1, padding='same', activation='relu'))\n",
    "    model.add(MaxPooling1D(pool_size=5, strides = 2, padding = 'same'))\n",
    "\n",
    "    model.add(Flatten())\n",
    "    model.add(Dense(8))\n",
    "    model.add(Activation('softmax'))\n",
    "    model.compile(optimizer = Adam(learning_rate=0.0001) , loss = 'categorical_crossentropy' , metrics = ['accuracy'])\n",
    "    return model"
   ]
  },
  {
   "cell_type": "code",
   "execution_count": null,
   "metadata": {
    "execution": {
     "iopub.execute_input": "2021-12-25T21:37:50.661937Z",
     "iopub.status.busy": "2021-12-25T21:37:50.66117Z",
     "iopub.status.idle": "2021-12-25T21:44:44.10229Z",
     "shell.execute_reply": "2021-12-25T21:44:44.101386Z",
     "shell.execute_reply.started": "2021-12-25T21:37:50.661885Z"
    },
    "scrolled": true
   },
   "outputs": [],
   "source": [
    "lower_lr_model = build_lower_lr(x_train_2d)\n",
    "lower_lr_history=lower_lr_model.fit(x_train, y_train, batch_size=64, epochs=600, validation_data=(x_val, y_val))"
   ]
  },
  {
   "cell_type": "code",
   "execution_count": null,
   "metadata": {
    "execution": {
     "iopub.execute_input": "2021-12-25T21:44:44.1042Z",
     "iopub.status.busy": "2021-12-25T21:44:44.103954Z",
     "iopub.status.idle": "2021-12-25T21:44:44.115185Z",
     "shell.execute_reply": "2021-12-25T21:44:44.114522Z",
     "shell.execute_reply.started": "2021-12-25T21:44:44.10417Z"
    }
   },
   "outputs": [],
   "source": [
    "json.dump(lower_lr_history.history,open(\"/kaggle/working/lower_lr_history\",'w'))"
   ]
  },
  {
   "cell_type": "code",
   "execution_count": null,
   "metadata": {
    "execution": {
     "iopub.execute_input": "2021-12-25T21:44:44.117034Z",
     "iopub.status.busy": "2021-12-25T21:44:44.116776Z",
     "iopub.status.idle": "2021-12-25T21:44:44.126198Z",
     "shell.execute_reply": "2021-12-25T21:44:44.125295Z",
     "shell.execute_reply.started": "2021-12-25T21:44:44.117002Z"
    }
   },
   "outputs": [],
   "source": [
    "def build_higher_lr(x_train):\n",
    "    model=Sequential()\n",
    "    model.add(Conv1D(256, kernel_size=5, strides=1, padding='same', activation='relu', input_shape=(pd.DataFrame(x_train).shape[1], 1)))\n",
    "    model.add(MaxPooling1D(pool_size=5, strides = 2, padding = 'same'))\n",
    "\n",
    "    model.add(Conv1D(256, kernel_size=5, strides=1, padding='same', activation='relu'))\n",
    "    model.add(MaxPooling1D(pool_size=5, strides = 2, padding = 'same'))\n",
    "\n",
    "    model.add(Flatten())\n",
    "    model.add(Dense(8))\n",
    "    model.add(Activation('softmax'))\n",
    "    model.compile(optimizer = Adam(learning_rate=0.01) , loss = 'categorical_crossentropy' , metrics = ['accuracy'])\n",
    "    return model"
   ]
  },
  {
   "cell_type": "code",
   "execution_count": null,
   "metadata": {
    "execution": {
     "iopub.execute_input": "2021-12-25T21:44:44.127809Z",
     "iopub.status.busy": "2021-12-25T21:44:44.127546Z",
     "iopub.status.idle": "2021-12-25T21:51:40.448335Z",
     "shell.execute_reply": "2021-12-25T21:51:40.447374Z",
     "shell.execute_reply.started": "2021-12-25T21:44:44.127762Z"
    },
    "scrolled": true
   },
   "outputs": [],
   "source": [
    "higher_lr_model = build_higher_lr(x_train_2d)\n",
    "higher_lr_history=higher_lr_model.fit(x_train, y_train, batch_size=64, epochs=600, validation_data=(x_val, y_val))"
   ]
  },
  {
   "cell_type": "code",
   "execution_count": null,
   "metadata": {
    "execution": {
     "iopub.execute_input": "2021-12-25T21:51:40.450854Z",
     "iopub.status.busy": "2021-12-25T21:51:40.450061Z",
     "iopub.status.idle": "2021-12-25T21:51:40.461274Z",
     "shell.execute_reply": "2021-12-25T21:51:40.460475Z",
     "shell.execute_reply.started": "2021-12-25T21:51:40.450805Z"
    }
   },
   "outputs": [],
   "source": [
    "json.dump(higher_lr_history.history,open(\"/kaggle/working/higher_lr_history\",'w'))"
   ]
  },
  {
   "cell_type": "code",
   "execution_count": null,
   "metadata": {
    "execution": {
     "iopub.execute_input": "2021-12-25T21:51:40.462952Z",
     "iopub.status.busy": "2021-12-25T21:51:40.462391Z",
     "iopub.status.idle": "2021-12-25T21:51:40.798756Z",
     "shell.execute_reply": "2021-12-25T21:51:40.797706Z",
     "shell.execute_reply.started": "2021-12-25T21:51:40.462915Z"
    }
   },
   "outputs": [],
   "source": [
    "lr_history = json.load(open(\"/kaggle/working/lr_history\",\"r\"))\n",
    "lower_lr_history = json.load(open(\"/kaggle/working/lower_lr_history\",\"r\"))\n",
    "higher_lr_history = json.load(open(\"/kaggle/working/higher_lr_history\",\"r\"))\n",
    "plt.plot(lr_history[\"val_accuracy\"],label=\"0.001\")\n",
    "plt.plot(lower_lr_history[\"val_accuracy\"],label=\"0.0001\")\n",
    "plt.plot(higher_lr_history[\"val_accuracy\"],label=\"0.01\")\n",
    "plt.legend()\n",
    "plt.savefig(\"lr_acc.png\")\n",
    "plt.show()"
   ]
  },
  {
   "cell_type": "code",
   "execution_count": null,
   "metadata": {
    "execution": {
     "iopub.execute_input": "2021-12-25T21:51:40.801829Z",
     "iopub.status.busy": "2021-12-25T21:51:40.801555Z",
     "iopub.status.idle": "2021-12-25T21:51:41.096119Z",
     "shell.execute_reply": "2021-12-25T21:51:41.095195Z",
     "shell.execute_reply.started": "2021-12-25T21:51:40.801783Z"
    }
   },
   "outputs": [],
   "source": [
    "plt.plot(lr_history[\"val_loss\"],label=\"0.001\")\n",
    "plt.plot(lower_lr_history[\"val_loss\"],label=\"0.0001\")\n",
    "plt.plot(higher_lr_history[\"val_loss\"],label=\"0.01\")\n",
    "plt.legend()\n",
    "plt.savefig(\"lr_loss.png\")\n",
    "plt.show()"
   ]
  },
  {
   "cell_type": "code",
   "execution_count": null,
   "metadata": {
    "execution": {
     "iopub.execute_input": "2021-12-25T21:51:41.097869Z",
     "iopub.status.busy": "2021-12-25T21:51:41.097574Z",
     "iopub.status.idle": "2021-12-25T21:51:41.949748Z",
     "shell.execute_reply": "2021-12-25T21:51:41.948981Z",
     "shell.execute_reply.started": "2021-12-25T21:51:41.097834Z"
    }
   },
   "outputs": [],
   "source": [
    "lr_test = lr_model.evaluate(x_test,y_test)\n",
    "lower_lr_test = lower_lr_model.evaluate(x_test,y_test)\n",
    "higher_lr_test = higher_lr_model.evaluate(x_test,y_test)"
   ]
  },
  {
   "cell_type": "code",
   "execution_count": null,
   "metadata": {
    "execution": {
     "iopub.execute_input": "2021-12-25T21:51:41.952363Z",
     "iopub.status.busy": "2021-12-25T21:51:41.951439Z",
     "iopub.status.idle": "2021-12-25T21:51:41.960712Z",
     "shell.execute_reply": "2021-12-25T21:51:41.959825Z",
     "shell.execute_reply.started": "2021-12-25T21:51:41.952308Z"
    }
   },
   "outputs": [],
   "source": [
    "from prettytable import PrettyTable \n",
    "lr_result = PrettyTable([\"learning rate\",\"loss\",\"accuracy\"]) \n",
    "lr_result.add_row([\"0.01\",higher_lr_test[0],higher_lr_test[1]]) \n",
    "lr_result.add_row([\"0.001\",lr_test[0],lr_test[1]]) \n",
    "lr_result.add_row([\"0.0001\",lower_lr_test[0],lower_lr_test[1]])   \n",
    "print(lr_result)"
   ]
  },
  {
   "cell_type": "code",
   "execution_count": null,
   "metadata": {
    "execution": {
     "iopub.execute_input": "2021-12-23T20:46:01.184351Z",
     "iopub.status.busy": "2021-12-23T20:46:01.184019Z",
     "iopub.status.idle": "2021-12-23T20:52:19.142496Z",
     "shell.execute_reply": "2021-12-23T20:52:19.14112Z",
     "shell.execute_reply.started": "2021-12-23T20:46:01.184314Z"
    }
   },
   "outputs": [],
   "source": [
    "x_train_2d, y_train, x_val_2d, y_val, x_test_2d, y_test = get_features([\"mfcc\"],[\"noise\"])\n",
    "encoder = OneHotEncoder()\n",
    "y_train = encoder.fit_transform(np.array(y_train).reshape(-1,1)).toarray()\n",
    "y_val = encoder.fit_transform(np.array(y_val).reshape(-1,1)).toarray()\n",
    "y_test = encoder.fit_transform(np.array(y_test).reshape(-1,1)).toarray()\n",
    "x_train = np.expand_dims(x_train_2d, axis=2)\n",
    "x_test = np.expand_dims(x_test_2d, axis=2)\n",
    "x_val = np.expand_dims(x_val_2d, axis=2)"
   ]
  },
  {
   "cell_type": "code",
   "execution_count": null,
   "metadata": {
    "execution": {
     "iopub.execute_input": "2021-12-25T22:10:29.262755Z",
     "iopub.status.busy": "2021-12-25T22:10:29.262443Z",
     "iopub.status.idle": "2021-12-25T22:10:29.273192Z",
     "shell.execute_reply": "2021-12-25T22:10:29.272001Z",
     "shell.execute_reply.started": "2021-12-25T22:10:29.262724Z"
    }
   },
   "outputs": [],
   "source": [
    "def build_model_with_decay(x_train,initial_rate,decay_step, decay_rate):\n",
    "    model=Sequential()\n",
    "    model.add(Conv1D(256, kernel_size=5, strides=1, padding='same', activation='relu', input_shape=(pd.DataFrame(x_train).shape[1], 1)))\n",
    "    model.add(MaxPooling1D(pool_size=5, strides = 2, padding = 'same'))\n",
    "\n",
    "    model.add(Conv1D(256, kernel_size=5, strides=1, padding='same', activation='relu'))\n",
    "    model.add(MaxPooling1D(pool_size=5, strides = 2, padding = 'same'))\n",
    "\n",
    "    model.add(Flatten())\n",
    "    model.add(Dense(8))\n",
    "    model.add(Activation('softmax'))\n",
    "    lr_schedule = tf.keras.optimizers.schedules.ExponentialDecay(\n",
    "    initial_rate,\n",
    "    decay_steps=decay_step,\n",
    "    decay_rate=decay_rate,\n",
    "    staircase=True)\n",
    "\n",
    "\n",
    "    model.compile(loss='categorical_crossentropy', optimizer=Adam(learning_rate=lr_schedule), metrics=['accuracy'])\n",
    "\n",
    "    return model"
   ]
  },
  {
   "cell_type": "code",
   "execution_count": null,
   "metadata": {
    "execution": {
     "iopub.execute_input": "2021-12-23T21:51:26.702195Z",
     "iopub.status.busy": "2021-12-23T21:51:26.701882Z",
     "iopub.status.idle": "2021-12-23T21:51:26.710562Z",
     "shell.execute_reply": "2021-12-23T21:51:26.70981Z",
     "shell.execute_reply.started": "2021-12-23T21:51:26.702166Z"
    }
   },
   "outputs": [],
   "source": [
    "def compared_decay_rate():\n",
    "    initial = 0.001\n",
    "    steps = [27,50,70,100]\n",
    "    rates = [0.96]\n",
    "    historys =[]\n",
    "    for step in steps:\n",
    "        for rate in rates:\n",
    "            model = build_model_with_decay(x_train_2d,0.001,step,rate)\n",
    "            history=model.fit(x_train, y_train, batch_size=64, epochs=400, validation_data=(x_val, y_val))\n",
    "            historys.append(history)\n",
    "            loss_history = pd.DataFrame(history.history)\n",
    "            plt.plot(loss_history['val_accuracy'],label=str(step))\n",
    "    plt.legend()\n",
    "    \n",
    "    plt.savefig(\"decay_acc.png\")\n",
    "    plt.show()\n",
    "    return historys"
   ]
  },
  {
   "cell_type": "code",
   "execution_count": null,
   "metadata": {
    "execution": {
     "iopub.execute_input": "2021-12-23T21:51:26.884871Z",
     "iopub.status.busy": "2021-12-23T21:51:26.884425Z",
     "iopub.status.idle": "2021-12-23T22:10:27.67611Z",
     "shell.execute_reply": "2021-12-23T22:10:27.675367Z",
     "shell.execute_reply.started": "2021-12-23T21:51:26.88482Z"
    },
    "scrolled": true
   },
   "outputs": [],
   "source": [
    "decay_historys = compared_decay_rate()"
   ]
  },
  {
   "cell_type": "code",
   "execution_count": null,
   "metadata": {
    "execution": {
     "iopub.execute_input": "2021-12-23T22:14:22.38067Z",
     "iopub.status.busy": "2021-12-23T22:14:22.377649Z",
     "iopub.status.idle": "2021-12-23T22:14:22.710043Z",
     "shell.execute_reply": "2021-12-23T22:14:22.708939Z",
     "shell.execute_reply.started": "2021-12-23T22:14:22.380607Z"
    }
   },
   "outputs": [],
   "source": [
    "steps = [27,50,70,100]\n",
    "for i in range(len(decay_historys)):\n",
    "    history = decay_historys[i]\n",
    "    loss_history = pd.DataFrame(history.history)\n",
    "    plt.plot(loss_history['val_loss'],label=steps[i])\n",
    "plt.legend()\n",
    "plt.ylim((0,5))\n",
    "plt.savefig(\"decay_loss.png\")\n",
    "plt.show()"
   ]
  },
  {
   "cell_type": "markdown",
   "metadata": {},
   "source": [
    "# Analyze Learning rate: reduction"
   ]
  },
  {
   "cell_type": "code",
   "execution_count": null,
   "metadata": {
    "execution": {
     "iopub.execute_input": "2021-12-25T19:28:10.730848Z",
     "iopub.status.busy": "2021-12-25T19:28:10.730515Z",
     "iopub.status.idle": "2021-12-25T19:34:30.86633Z",
     "shell.execute_reply": "2021-12-25T19:34:30.862669Z",
     "shell.execute_reply.started": "2021-12-25T19:28:10.730814Z"
    }
   },
   "outputs": [],
   "source": [
    "x_train_2d, y_train, x_val_2d, y_val, x_test_2d, y_test = get_features([\"mfcc\"],[\"noise\"])\n",
    "encoder = OneHotEncoder()\n",
    "y_train = encoder.fit_transform(np.array(y_train).reshape(-1,1)).toarray()\n",
    "y_val = encoder.fit_transform(np.array(y_val).reshape(-1,1)).toarray()\n",
    "y_test = encoder.fit_transform(np.array(y_test).reshape(-1,1)).toarray()\n",
    "x_train = np.expand_dims(x_train_2d, axis=2)\n",
    "x_test = np.expand_dims(x_test_2d, axis=2)\n",
    "x_val = np.expand_dims(x_val_2d, axis=2)"
   ]
  },
  {
   "cell_type": "code",
   "execution_count": null,
   "metadata": {
    "execution": {
     "iopub.execute_input": "2021-12-25T19:38:57.52825Z",
     "iopub.status.busy": "2021-12-25T19:38:57.52756Z",
     "iopub.status.idle": "2021-12-25T19:38:57.537986Z",
     "shell.execute_reply": "2021-12-25T19:38:57.536872Z",
     "shell.execute_reply.started": "2021-12-25T19:38:57.528189Z"
    }
   },
   "outputs": [],
   "source": [
    "def build_model_with_reduction(x_train):\n",
    "    model=Sequential()\n",
    "    model.add(Conv1D(256, kernel_size=5, strides=1, padding='same', activation='relu', input_shape=(pd.DataFrame(x_train).shape[1], 1)))\n",
    "    model.add(MaxPooling1D(pool_size=5, strides = 2, padding = 'same'))\n",
    "\n",
    "    model.add(Conv1D(256, kernel_size=5, strides=1, padding='same', activation='relu'))\n",
    "    model.add(MaxPooling1D(pool_size=5, strides = 2, padding = 'same'))\n",
    "\n",
    "    model.add(Flatten())\n",
    "    model.add(Dense(8))\n",
    "    model.add(Activation('softmax'))\n",
    "\n",
    "\n",
    "\n",
    "    model.compile(loss='categorical_crossentropy', optimizer=\"adam\", metrics=['accuracy'])\n",
    "\n",
    "    return model"
   ]
  },
  {
   "cell_type": "code",
   "execution_count": null,
   "metadata": {
    "execution": {
     "iopub.execute_input": "2021-12-25T20:40:53.23992Z",
     "iopub.status.busy": "2021-12-25T20:40:53.239617Z",
     "iopub.status.idle": "2021-12-25T20:40:53.250264Z",
     "shell.execute_reply": "2021-12-25T20:40:53.249114Z",
     "shell.execute_reply.started": "2021-12-25T20:40:53.239893Z"
    }
   },
   "outputs": [],
   "source": [
    "def compared_reduction_rate():\n",
    "    factors = [0.2,0.5,0.8]\n",
    "    patiences = [5,10,20]\n",
    "    historys =[]\n",
    "    for factor in factors:\n",
    "        for patience in patiences:\n",
    "            reduce_lr = tf.keras.callbacks.ReduceLROnPlateau(\n",
    "            monitor='val_loss', factor=factor, patience=patience, verbose=0,\n",
    "            mode='auto', min_delta=0.0001, cooldown=0, min_lr=0.0001,\n",
    "            )\n",
    "            callback_list = [reduce_lr]\n",
    "            model = build_model_with_reduction(x_train_2d)\n",
    "            history=model.fit(x_train, y_train, batch_size=64, epochs=400, validation_data=(x_val, y_val),callbacks=callback_list)\n",
    "            historys.append(history)\n",
    "            loss_history = pd.DataFrame(history.history)\n",
    "            plt.plot(loss_history['val_accuracy'],label=\"factor: \"+str(factor)+\" patience: \"+str(patience))\n",
    "    plt.legend()\n",
    "    \n",
    "    plt.savefig(\"reduction_acc.png\")\n",
    "    plt.show()\n",
    "    return historys"
   ]
  },
  {
   "cell_type": "code",
   "execution_count": null,
   "metadata": {
    "execution": {
     "iopub.execute_input": "2021-12-25T20:40:53.551609Z",
     "iopub.status.busy": "2021-12-25T20:40:53.549151Z",
     "iopub.status.idle": "2021-12-25T21:22:46.153838Z",
     "shell.execute_reply": "2021-12-25T21:22:46.152827Z",
     "shell.execute_reply.started": "2021-12-25T20:40:53.551559Z"
    },
    "scrolled": true
   },
   "outputs": [],
   "source": [
    "reduction_historys = compared_reduction_rate()"
   ]
  },
  {
   "cell_type": "code",
   "execution_count": null,
   "metadata": {
    "execution": {
     "iopub.execute_input": "2021-12-25T21:22:46.155895Z",
     "iopub.status.busy": "2021-12-25T21:22:46.155631Z",
     "iopub.status.idle": "2021-12-25T21:22:46.571875Z",
     "shell.execute_reply": "2021-12-25T21:22:46.57097Z",
     "shell.execute_reply.started": "2021-12-25T21:22:46.155863Z"
    }
   },
   "outputs": [],
   "source": [
    "factors = [0.2,0.5,0.8]\n",
    "patiences = [5,10,20]\n",
    "for i in range(len(factors)):\n",
    "    for j in range(len(patiences)):\n",
    "        history = reduction_historys[i*3+j]\n",
    "        loss_history = pd.DataFrame(history.history)\n",
    "        plt.plot(loss_history['val_loss'],label=\"factor: \"+str(factors[i])+\" patience: \"+str(patiences[j]))\n",
    "plt.legend()\n",
    "plt.ylim((0,5))\n",
    "plt.savefig(\"reduction_loss.png\")\n",
    "plt.show()"
   ]
  },
  {
   "cell_type": "code",
   "execution_count": null,
   "metadata": {
    "execution": {
     "iopub.execute_input": "2021-12-25T22:10:32.847837Z",
     "iopub.status.busy": "2021-12-25T22:10:32.847363Z",
     "iopub.status.idle": "2021-12-25T22:15:20.948353Z",
     "shell.execute_reply": "2021-12-25T22:15:20.94596Z",
     "shell.execute_reply.started": "2021-12-25T22:10:32.847802Z"
    },
    "scrolled": true
   },
   "outputs": [],
   "source": [
    "model = build_model_with_decay(x_train_2d,0.001,70,0.96)\n",
    "decay_history=model.fit(x_train, y_train, batch_size=64, epochs=400, validation_data=(x_val, y_val))\n",
    "\n"
   ]
  },
  {
   "cell_type": "code",
   "execution_count": null,
   "metadata": {
    "execution": {
     "iopub.execute_input": "2021-12-25T22:20:37.186728Z",
     "iopub.status.busy": "2021-12-25T22:20:37.185625Z",
     "iopub.status.idle": "2021-12-25T22:20:37.509189Z",
     "shell.execute_reply": "2021-12-25T22:20:37.507529Z",
     "shell.execute_reply.started": "2021-12-25T22:20:37.186659Z"
    }
   },
   "outputs": [],
   "source": [
    "lower_history = lower_lr_history\n",
    "#decay_history = pd.DataFrame(decay_history.history)\n",
    "reduction = reduction_historys[6]\n",
    "reduction_history = pd.DataFrame(reduction.history)\n",
    "plt.plot(lower_history['val_accuracy'],label=\"0.0001\")\n",
    "plt.plot(decay_history['val_accuracy'],label=\"decay\")\n",
    "plt.plot(reduction_history['val_accuracy'],label=\"reduction\")\n",
    "plt.legend()\n",
    "plt.savefig(\"lr_final_acc.png\")\n",
    "plt.show()"
   ]
  },
  {
   "cell_type": "code",
   "execution_count": null,
   "metadata": {
    "execution": {
     "iopub.execute_input": "2021-12-25T22:20:53.828518Z",
     "iopub.status.busy": "2021-12-25T22:20:53.828024Z",
     "iopub.status.idle": "2021-12-25T22:20:54.126269Z",
     "shell.execute_reply": "2021-12-25T22:20:54.125238Z",
     "shell.execute_reply.started": "2021-12-25T22:20:53.828463Z"
    }
   },
   "outputs": [],
   "source": [
    "plt.plot(lower_history['val_loss'],label=\"0.0001\")\n",
    "plt.plot(decay_history['val_loss'],label=\"decay\")\n",
    "plt.plot(reduction_history['val_loss'],label=\"reduction\")\n",
    "plt.legend()\n",
    "plt.savefig(\"lr_final_loss.png\")\n",
    "plt.show()"
   ]
  },
  {
   "cell_type": "markdown",
   "metadata": {},
   "source": [
    "# Final Model"
   ]
  },
  {
   "cell_type": "code",
   "execution_count": null,
   "metadata": {},
   "outputs": [],
   "source": [
    "x_train_2d, y_train, x_val_2d, y_val, x_test_2d, y_test = get_features([\"mfcc\"],[\"noise\"])\n",
    "encoder = OneHotEncoder()\n",
    "y_train = encoder.fit_transform(np.array(y_train).reshape(-1,1)).toarray()\n",
    "y_val = encoder.fit_transform(np.array(y_val).reshape(-1,1)).toarray()\n",
    "y_test = encoder.fit_transform(np.array(y_test).reshape(-1,1)).toarray()\n",
    "x_train = np.expand_dims(x_train_2d, axis=2)\n",
    "x_test = np.expand_dims(x_test_2d, axis=2)\n",
    "x_val = np.expand_dims(x_val_2d, axis=2)"
   ]
  },
  {
   "cell_type": "code",
   "execution_count": 45,
   "metadata": {
    "execution": {
     "iopub.execute_input": "2021-12-26T23:23:18.927260Z",
     "iopub.status.busy": "2021-12-26T23:23:18.925925Z",
     "iopub.status.idle": "2021-12-26T23:23:18.942024Z",
     "shell.execute_reply": "2021-12-26T23:23:18.940625Z",
     "shell.execute_reply.started": "2021-12-26T23:23:18.927183Z"
    }
   },
   "outputs": [],
   "source": [
    "def build_model_with_decay(x_train,initial_rate,decay_step, decay_rate):\n",
    "    model=Sequential()\n",
    "    model.add(Conv1D(64, kernel_size=5, strides=1, padding='same', activation='relu', input_shape=(pd.DataFrame(x_train).shape[1], 1)))\n",
    "    model.add(MaxPooling1D(pool_size=5, strides = 2, padding = 'same'))\n",
    "    model.add(Conv1D(128, kernel_size=5, strides=1, padding='same', activation='relu'))\n",
    "    model.add(MaxPooling1D(pool_size=5, strides = 2, padding = 'same'))\n",
    "    model.add(Conv1D(256, kernel_size=5, strides=1, padding='same', activation='relu'))\n",
    "    model.add(Flatten())\n",
    "    model.add(Dense(256,activation=\"relu\"))\n",
    "    model.add(Dense(128,activation=\"relu\"))\n",
    "    model.add(Dense(8))\n",
    "    model.add(Activation('softmax'))\n",
    "    lr_schedule = tf.keras.optimizers.schedules.ExponentialDecay(\n",
    "    initial_rate,\n",
    "    decay_steps=decay_step,\n",
    "    decay_rate=decay_rate,\n",
    "    staircase=True)\n",
    "\n",
    "\n",
    "    model.compile(loss='categorical_crossentropy', optimizer=Adam(learning_rate=lr_schedule), metrics=['accuracy'])\n",
    "\n",
    "    return model"
   ]
  },
  {
   "cell_type": "code",
   "execution_count": 47,
   "metadata": {
    "execution": {
     "iopub.execute_input": "2021-12-26T23:29:12.081869Z",
     "iopub.status.busy": "2021-12-26T23:29:12.081431Z",
     "iopub.status.idle": "2021-12-26T23:29:47.052652Z",
     "shell.execute_reply": "2021-12-26T23:29:47.051581Z",
     "shell.execute_reply.started": "2021-12-26T23:29:12.081827Z"
    },
    "scrolled": true
   },
   "outputs": [],
   "source": [
    "\n",
    "model = build_model_with_decay(x_train_2d,0.001,70,0.96)\n",
    "history=model.fit(x_train, y_train, batch_size=64, epochs=200, validation_data=(x_val, y_val),callbacks=callback_list)"
   ]
  },
  {
   "cell_type": "code",
   "execution_count": 48,
   "metadata": {
    "execution": {
     "iopub.execute_input": "2021-12-26T23:31:07.151481Z",
     "iopub.status.busy": "2021-12-26T23:31:07.150341Z",
     "iopub.status.idle": "2021-12-26T23:31:07.488578Z",
     "shell.execute_reply": "2021-12-26T23:31:07.487369Z",
     "shell.execute_reply.started": "2021-12-26T23:31:07.151424Z"
    }
   },
   "outputs": [],
   "source": [
    "model.evaluate(x_test,y_test)"
   ]
  },
  {
   "cell_type": "code",
   "execution_count": null,
   "metadata": {
    "execution": {
     "iopub.execute_input": "2021-12-25T23:15:38.96911Z",
     "iopub.status.busy": "2021-12-25T23:15:38.968808Z",
     "iopub.status.idle": "2021-12-25T23:15:39.271403Z",
     "shell.execute_reply": "2021-12-25T23:15:39.270514Z",
     "shell.execute_reply.started": "2021-12-25T23:15:38.969074Z"
    }
   },
   "outputs": [],
   "source": [
    "loss_history = pd.DataFrame(history.history)\n",
    "loss_history[[\"accuracy\",\"val_accuracy\"]].plot()\n",
    "plt.savefig(\"final_acc.png\")"
   ]
  },
  {
   "cell_type": "code",
   "execution_count": null,
   "metadata": {
    "execution": {
     "iopub.execute_input": "2021-12-25T23:54:33.190421Z",
     "iopub.status.busy": "2021-12-25T23:54:33.189865Z",
     "iopub.status.idle": "2021-12-25T23:54:33.280774Z",
     "shell.execute_reply": "2021-12-25T23:54:33.279496Z",
     "shell.execute_reply.started": "2021-12-25T23:54:33.19029Z"
    }
   },
   "outputs": [],
   "source": [
    "loss_history[[\"loss\",\"val_loss\"]].plot()\n",
    "plt.ylim((0,5))\n",
    "plt.savefig(\"final_loss.png\")"
   ]
  },
  {
   "cell_type": "code",
   "execution_count": null,
   "metadata": {},
   "outputs": [],
   "source": []
  }
 ],
 "metadata": {
  "kernelspec": {
   "display_name": "Python 3",
   "language": "python",
   "name": "python3"
  },
  "language_info": {
   "codemirror_mode": {
    "name": "ipython",
    "version": 3
   },
   "file_extension": ".py",
   "mimetype": "text/x-python",
   "name": "python",
   "nbconvert_exporter": "python",
   "pygments_lexer": "ipython3",
   "version": "3.9.5"
  }
 },
 "nbformat": 4,
 "nbformat_minor": 4
}
